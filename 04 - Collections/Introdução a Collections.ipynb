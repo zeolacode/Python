{
 "cells": [
  {
   "cell_type": "code",
   "execution_count": 1,
   "id": "acc635e3",
   "metadata": {},
   "outputs": [
    {
     "name": "stdout",
     "output_type": "stream",
     "text": [
      "39\n",
      "30\n",
      "49\n"
     ]
    }
   ],
   "source": [
    "idade1 = 39\n",
    "idade2 = 30\n",
    "idade3 = 49\n",
    "\n",
    "print(idade1)\n",
    "print(idade2)\n",
    "print(idade3)"
   ]
  },
  {
   "cell_type": "code",
   "execution_count": 2,
   "id": "3110a8f5",
   "metadata": {},
   "outputs": [],
   "source": [
    "idades = [39, 30, 49]"
   ]
  },
  {
   "cell_type": "code",
   "execution_count": 3,
   "id": "32aaeac7",
   "metadata": {},
   "outputs": [
    {
     "data": {
      "text/plain": [
       "list"
      ]
     },
     "execution_count": 3,
     "metadata": {},
     "output_type": "execute_result"
    }
   ],
   "source": [
    "type(idades)"
   ]
  },
  {
   "cell_type": "code",
   "execution_count": 4,
   "id": "f9c0e94e",
   "metadata": {},
   "outputs": [
    {
     "data": {
      "text/plain": [
       "3"
      ]
     },
     "execution_count": 4,
     "metadata": {},
     "output_type": "execute_result"
    }
   ],
   "source": [
    "len(idades)"
   ]
  },
  {
   "cell_type": "code",
   "execution_count": 5,
   "id": "4ae40c5e",
   "metadata": {},
   "outputs": [
    {
     "data": {
      "text/plain": [
       "39"
      ]
     },
     "execution_count": 5,
     "metadata": {},
     "output_type": "execute_result"
    }
   ],
   "source": [
    "idades[0]"
   ]
  },
  {
   "cell_type": "code",
   "execution_count": 6,
   "id": "8840c345",
   "metadata": {},
   "outputs": [
    {
     "data": {
      "text/plain": [
       "[39, 30, 49]"
      ]
     },
     "execution_count": 6,
     "metadata": {},
     "output_type": "execute_result"
    }
   ],
   "source": [
    "idades"
   ]
  },
  {
   "cell_type": "code",
   "execution_count": 7,
   "id": "440c169b",
   "metadata": {},
   "outputs": [
    {
     "name": "stdout",
     "output_type": "stream",
     "text": [
      "30\n",
      "49\n"
     ]
    }
   ],
   "source": [
    "print(idades[1])\n",
    "print(idades[2])"
   ]
  },
  {
   "cell_type": "code",
   "execution_count": 8,
   "id": "e99eb5f1",
   "metadata": {},
   "outputs": [],
   "source": [
    "idades.append(15)"
   ]
  },
  {
   "cell_type": "code",
   "execution_count": 9,
   "id": "273986de",
   "metadata": {},
   "outputs": [
    {
     "data": {
      "text/plain": [
       "[39, 30, 49, 15]"
      ]
     },
     "execution_count": 9,
     "metadata": {},
     "output_type": "execute_result"
    }
   ],
   "source": [
    "idades"
   ]
  },
  {
   "cell_type": "code",
   "execution_count": 11,
   "id": "d6ee6bb3",
   "metadata": {},
   "outputs": [
    {
     "name": "stdout",
     "output_type": "stream",
     "text": [
      "39\n",
      "30\n",
      "49\n",
      "15\n"
     ]
    }
   ],
   "source": [
    "for idade in idades:\n",
    "    print(idade)"
   ]
  },
  {
   "cell_type": "code",
   "execution_count": 13,
   "id": "061e8937",
   "metadata": {},
   "outputs": [],
   "source": [
    "idades.remove(30)"
   ]
  },
  {
   "cell_type": "code",
   "execution_count": 14,
   "id": "afffc3f5",
   "metadata": {},
   "outputs": [
    {
     "data": {
      "text/plain": [
       "[39, 49, 15]"
      ]
     },
     "execution_count": 14,
     "metadata": {},
     "output_type": "execute_result"
    }
   ],
   "source": [
    "idades"
   ]
  },
  {
   "cell_type": "code",
   "execution_count": 15,
   "id": "8b2c0ad1",
   "metadata": {},
   "outputs": [],
   "source": [
    "idades.append(15)"
   ]
  },
  {
   "cell_type": "code",
   "execution_count": 16,
   "id": "e52efb67",
   "metadata": {},
   "outputs": [],
   "source": [
    "idades.remove(15)"
   ]
  },
  {
   "cell_type": "code",
   "execution_count": 17,
   "id": "c9cb8e98",
   "metadata": {},
   "outputs": [
    {
     "data": {
      "text/plain": [
       "[39, 49, 15]"
      ]
     },
     "execution_count": 17,
     "metadata": {},
     "output_type": "execute_result"
    }
   ],
   "source": [
    "idades"
   ]
  },
  {
   "cell_type": "code",
   "execution_count": 19,
   "id": "0b11a36f",
   "metadata": {},
   "outputs": [
    {
     "name": "stdout",
     "output_type": "stream",
     "text": [
      "[39, 49, 15, 49, 49]\n",
      "[39, 15, 49, 49]\n"
     ]
    }
   ],
   "source": [
    "idades.append(49)\n",
    "print(idades)\n",
    "idades.remove(49) # remove o primeiro elemento\n",
    "print(idades)"
   ]
  },
  {
   "cell_type": "code",
   "execution_count": 20,
   "id": "8b783fce",
   "metadata": {},
   "outputs": [
    {
     "data": {
      "text/plain": [
       "False"
      ]
     },
     "execution_count": 20,
     "metadata": {},
     "output_type": "execute_result"
    }
   ],
   "source": [
    "28 in idades"
   ]
  },
  {
   "cell_type": "code",
   "execution_count": 21,
   "id": "0022240d",
   "metadata": {},
   "outputs": [
    {
     "data": {
      "text/plain": [
       "True"
      ]
     },
     "execution_count": 21,
     "metadata": {},
     "output_type": "execute_result"
    }
   ],
   "source": [
    "15 in idades"
   ]
  },
  {
   "cell_type": "code",
   "execution_count": 22,
   "id": "aa9276e0",
   "metadata": {},
   "outputs": [
    {
     "name": "stdout",
     "output_type": "stream",
     "text": [
      "[39, 49, 49]\n"
     ]
    }
   ],
   "source": [
    "if 15 in idades:\n",
    "    idades.remove(15)\n",
    "\n",
    "print(idades)"
   ]
  },
  {
   "cell_type": "code",
   "execution_count": 23,
   "id": "1715fbf8",
   "metadata": {},
   "outputs": [
    {
     "data": {
      "text/plain": [
       "[39, 49, 49, 19]"
      ]
     },
     "execution_count": 23,
     "metadata": {},
     "output_type": "execute_result"
    }
   ],
   "source": [
    "idades.append(19)\n",
    "idades"
   ]
  },
  {
   "cell_type": "code",
   "execution_count": 25,
   "id": "647b811b",
   "metadata": {},
   "outputs": [
    {
     "data": {
      "text/plain": [
       "[20, 39, 49, 49, 19]"
      ]
     },
     "execution_count": 25,
     "metadata": {},
     "output_type": "execute_result"
    }
   ],
   "source": [
    "idades.insert(0, 20)\n",
    "idades"
   ]
  },
  {
   "cell_type": "code",
   "execution_count": 26,
   "id": "4cf84c69",
   "metadata": {},
   "outputs": [
    {
     "data": {
      "text/plain": [
       "[20, 39, 18]"
      ]
     },
     "execution_count": 26,
     "metadata": {},
     "output_type": "execute_result"
    }
   ],
   "source": [
    "idades = [20, 39, 18]\n",
    "idades"
   ]
  },
  {
   "cell_type": "code",
   "execution_count": 27,
   "id": "c4f24c4d",
   "metadata": {},
   "outputs": [],
   "source": [
    "idades.append([27, 19])"
   ]
  },
  {
   "cell_type": "code",
   "execution_count": 28,
   "id": "ca6ec948",
   "metadata": {},
   "outputs": [
    {
     "data": {
      "text/plain": [
       "[20, 39, 18, [27, 19]]"
      ]
     },
     "execution_count": 28,
     "metadata": {},
     "output_type": "execute_result"
    }
   ],
   "source": [
    "idades"
   ]
  },
  {
   "cell_type": "code",
   "execution_count": 29,
   "id": "c0a9d0de",
   "metadata": {},
   "outputs": [
    {
     "name": "stdout",
     "output_type": "stream",
     "text": [
      "Recebi o elemento 20\n",
      "Recebi o elemento 39\n",
      "Recebi o elemento 18\n",
      "Recebi o elemento [27, 19]\n"
     ]
    }
   ],
   "source": [
    "for elemento in idades:\n",
    "    print(\"Recebi o elemento\", elemento)"
   ]
  },
  {
   "cell_type": "code",
   "execution_count": 31,
   "id": "8bc78c73",
   "metadata": {},
   "outputs": [
    {
     "data": {
      "text/plain": [
       "[20, 39, 18, 27, 19]"
      ]
     },
     "execution_count": 31,
     "metadata": {},
     "output_type": "execute_result"
    }
   ],
   "source": [
    "idades = [20, 39, 18]\n",
    "idades.extend([27, 19])\n",
    "idades"
   ]
  },
  {
   "cell_type": "code",
   "execution_count": 32,
   "id": "11d717da",
   "metadata": {},
   "outputs": [
    {
     "name": "stdout",
     "output_type": "stream",
     "text": [
      "21\n",
      "40\n",
      "19\n",
      "28\n",
      "20\n"
     ]
    }
   ],
   "source": [
    "for idade in idades:\n",
    "    print(idade + 1)"
   ]
  },
  {
   "cell_type": "code",
   "execution_count": 33,
   "id": "7f4172c8",
   "metadata": {},
   "outputs": [
    {
     "name": "stdout",
     "output_type": "stream",
     "text": [
      "[20, 39, 18, 27, 19]\n",
      "[21, 40, 19, 28, 20]\n"
     ]
    }
   ],
   "source": [
    "idades_no_ano_que_vem = []\n",
    "for idade in idades:\n",
    "    idades_no_ano_que_vem.append(idade + 1)\n",
    "\n",
    "print(idades)\n",
    "print(idades_no_ano_que_vem)"
   ]
  },
  {
   "cell_type": "code",
   "execution_count": 36,
   "id": "e3e0d6ee",
   "metadata": {},
   "outputs": [
    {
     "data": {
      "text/plain": [
       "[21, 40, 19, 28, 20]"
      ]
     },
     "execution_count": 36,
     "metadata": {},
     "output_type": "execute_result"
    }
   ],
   "source": [
    "idades_no_ano_que_vem = [(idade + 1) for idade in idades]\n",
    "idades_no_ano_que_vem"
   ]
  },
  {
   "cell_type": "code",
   "execution_count": 38,
   "id": "1cfbf739",
   "metadata": {},
   "outputs": [
    {
     "data": {
      "text/plain": [
       "[39, 27]"
      ]
     },
     "execution_count": 38,
     "metadata": {},
     "output_type": "execute_result"
    }
   ],
   "source": [
    "[idade for idade in idades if idade > 21]"
   ]
  },
  {
   "cell_type": "code",
   "execution_count": 39,
   "id": "46d2f6d5",
   "metadata": {},
   "outputs": [
    {
     "data": {
      "text/plain": [
       "[20, 39, 18, 27, 19]"
      ]
     },
     "execution_count": 39,
     "metadata": {},
     "output_type": "execute_result"
    }
   ],
   "source": [
    "idades"
   ]
  },
  {
   "cell_type": "code",
   "execution_count": 41,
   "id": "20db5aab",
   "metadata": {},
   "outputs": [],
   "source": [
    "def faz_processamento_de_visualizacao(lista):\n",
    "    print(len(lista))\n",
    "    lista.append(13)"
   ]
  },
  {
   "cell_type": "code",
   "execution_count": 44,
   "id": "ad946336",
   "metadata": {},
   "outputs": [
    {
     "name": "stdout",
     "output_type": "stream",
     "text": [
      "5\n"
     ]
    }
   ],
   "source": [
    "idades = [16, 21, 29, 56, 43]\n",
    "faz_processamento_de_visualizacao(idades)"
   ]
  },
  {
   "cell_type": "code",
   "execution_count": 49,
   "id": "47d55fd3",
   "metadata": {},
   "outputs": [],
   "source": [
    "def faz_processamento_de_visualizacao(lista = []):\n",
    "    print(len(lista))\n",
    "    lista.append(13)"
   ]
  },
  {
   "cell_type": "code",
   "execution_count": 52,
   "id": "80194428",
   "metadata": {},
   "outputs": [
    {
     "name": "stdout",
     "output_type": "stream",
     "text": [
      "0\n"
     ]
    }
   ],
   "source": [
    "def faz_processamento_de_visualizacao(lista = []):\n",
    "    print(len(lista))\n",
    "    lista.append(13)\n",
    "\n",
    "faz_processamento_de_visualizacao()"
   ]
  },
  {
   "cell_type": "code",
   "execution_count": 53,
   "id": "b32d24d9",
   "metadata": {},
   "outputs": [
    {
     "name": "stdout",
     "output_type": "stream",
     "text": [
      "1\n"
     ]
    }
   ],
   "source": [
    "faz_processamento_de_visualizacao()"
   ]
  },
  {
   "cell_type": "code",
   "execution_count": 54,
   "id": "ee2f754f",
   "metadata": {},
   "outputs": [
    {
     "name": "stdout",
     "output_type": "stream",
     "text": [
      "2\n"
     ]
    }
   ],
   "source": [
    "faz_processamento_de_visualizacao()"
   ]
  },
  {
   "cell_type": "code",
   "execution_count": 55,
   "id": "cc67c0a3",
   "metadata": {},
   "outputs": [
    {
     "name": "stdout",
     "output_type": "stream",
     "text": [
      "3\n"
     ]
    }
   ],
   "source": [
    "faz_processamento_de_visualizacao()"
   ]
  },
  {
   "cell_type": "code",
   "execution_count": 57,
   "id": "40444e59",
   "metadata": {},
   "outputs": [
    {
     "name": "stdout",
     "output_type": "stream",
     "text": [
      "0\n",
      "[]\n",
      "1\n",
      "[13]\n"
     ]
    }
   ],
   "source": [
    "def faz_processamento_de_visualizacao(lista = list()):\n",
    "    print(len(lista))\n",
    "    print(lista)\n",
    "    lista.append(13)\n",
    "\n",
    "faz_processamento_de_visualizacao()\n",
    "faz_processamento_de_visualizacao()"
   ]
  },
  {
   "cell_type": "code",
   "execution_count": 60,
   "id": "4417a5d3",
   "metadata": {},
   "outputs": [],
   "source": [
    "def faz_processamento_de_visualizacao(lista = None):\n",
    "  if lista == None:\n",
    "     lista = list()\n",
    "     print(len(lista))\n",
    "     print(lista)\n",
    "     lista.append(13)"
   ]
  },
  {
   "cell_type": "code",
   "execution_count": 61,
   "id": "16030cb5",
   "metadata": {},
   "outputs": [
    {
     "name": "stdout",
     "output_type": "stream",
     "text": [
      "0\n",
      "[]\n"
     ]
    }
   ],
   "source": [
    "faz_processamento_de_visualizacao()"
   ]
  },
  {
   "cell_type": "code",
   "execution_count": 63,
   "id": "55be5662",
   "metadata": {},
   "outputs": [
    {
     "name": "stdout",
     "output_type": "stream",
     "text": [
      "0\n",
      "[]\n"
     ]
    }
   ],
   "source": [
    "faz_processamento_de_visualizacao()"
   ]
  },
  {
   "cell_type": "markdown",
   "id": "9d9e74bc",
   "metadata": {},
   "source": [
    "Objetos próprios"
   ]
  },
  {
   "cell_type": "code",
   "execution_count": 69,
   "id": "5f20219f",
   "metadata": {},
   "outputs": [],
   "source": [
    "class ContaCorrente:\n",
    "    \n",
    "    def __init__(self, codigo):\n",
    "        self.codigo = codigo\n",
    "        self.saldo = 0\n",
    "    \n",
    "    def deposita(self, valor):\n",
    "        self.saldo += valor\n",
    "    \n",
    "    def __str__(self):\n",
    "        return \"[>>Codigo {} Saldo {} <<]\".format(self.codigo, self.saldo)"
   ]
  },
  {
   "cell_type": "code",
   "execution_count": 70,
   "id": "0bbca63b",
   "metadata": {},
   "outputs": [
    {
     "name": "stdout",
     "output_type": "stream",
     "text": [
      "[>>Codigo 15 Saldo 0 <<]\n"
     ]
    }
   ],
   "source": [
    "conda_do_pedro = ContaCorrente(15)\n",
    "print(conda_do_pedro)"
   ]
  },
  {
   "cell_type": "code",
   "execution_count": 71,
   "id": "3aae9bfc",
   "metadata": {},
   "outputs": [
    {
     "name": "stdout",
     "output_type": "stream",
     "text": [
      "[>>Codigo 15 Saldo 500 <<]\n"
     ]
    }
   ],
   "source": [
    "conda_do_pedro.deposita(500)\n",
    "print(conda_do_pedro)"
   ]
  },
  {
   "cell_type": "code",
   "execution_count": 72,
   "id": "cc725dfd",
   "metadata": {},
   "outputs": [
    {
     "name": "stdout",
     "output_type": "stream",
     "text": [
      "[>>Codigo 47685 Saldo 1000 <<]\n"
     ]
    }
   ],
   "source": [
    "conta_da_dani = ContaCorrente(47685)\n",
    "conta_da_dani.deposita(1000)\n",
    "print(conta_da_dani)"
   ]
  },
  {
   "cell_type": "code",
   "execution_count": 73,
   "id": "3a071e22",
   "metadata": {},
   "outputs": [
    {
     "name": "stdout",
     "output_type": "stream",
     "text": [
      "[<__main__.ContaCorrente object at 0x000001F082E79A30>, <__main__.ContaCorrente object at 0x000001F082E99730>]\n"
     ]
    }
   ],
   "source": [
    "contas = [conda_do_pedro, conta_da_dani]\n",
    "print(contas)"
   ]
  },
  {
   "cell_type": "code",
   "execution_count": 74,
   "id": "9b7e7fbd",
   "metadata": {},
   "outputs": [
    {
     "name": "stdout",
     "output_type": "stream",
     "text": [
      "[>>Codigo 15 Saldo 500 <<]\n",
      "[>>Codigo 47685 Saldo 1000 <<]\n"
     ]
    }
   ],
   "source": [
    "for conta in contas:\n",
    "    print(conta)"
   ]
  },
  {
   "cell_type": "code",
   "execution_count": 76,
   "id": "c3f29d45",
   "metadata": {},
   "outputs": [],
   "source": [
    "contas = [conda_do_pedro, conta_da_dani, conda_do_pedro]"
   ]
  },
  {
   "cell_type": "code",
   "execution_count": 78,
   "id": "11bdec46",
   "metadata": {},
   "outputs": [
    {
     "name": "stdout",
     "output_type": "stream",
     "text": [
      "[>>Codigo 15 Saldo 500 <<]\n",
      "[>>Codigo 15 Saldo 500 <<]\n"
     ]
    }
   ],
   "source": [
    "print(contas[0])\n",
    "print(contas[2])"
   ]
  },
  {
   "cell_type": "code",
   "execution_count": 79,
   "id": "198ac3e7",
   "metadata": {},
   "outputs": [],
   "source": [
    "conda_do_pedro.deposita(100)"
   ]
  },
  {
   "cell_type": "code",
   "execution_count": 81,
   "id": "c2400791",
   "metadata": {},
   "outputs": [
    {
     "name": "stdout",
     "output_type": "stream",
     "text": [
      "[>>Codigo 15 Saldo 600 <<]\n",
      "[>>Codigo 15 Saldo 600 <<]\n"
     ]
    }
   ],
   "source": [
    "print(contas[0])\n",
    "print(contas[2])"
   ]
  },
  {
   "cell_type": "code",
   "execution_count": 85,
   "id": "5423b59a",
   "metadata": {},
   "outputs": [],
   "source": [
    "contas[2].deposita(300)"
   ]
  },
  {
   "cell_type": "code",
   "execution_count": 86,
   "id": "0a98a1e2",
   "metadata": {},
   "outputs": [
    {
     "name": "stdout",
     "output_type": "stream",
     "text": [
      "[>>Codigo 15 Saldo 900 <<]\n",
      "[>>Codigo 15 Saldo 900 <<]\n"
     ]
    }
   ],
   "source": [
    "print(contas[0])\n",
    "print(contas[2])"
   ]
  },
  {
   "cell_type": "code",
   "execution_count": 91,
   "id": "f43f7925",
   "metadata": {},
   "outputs": [
    {
     "name": "stdout",
     "output_type": "stream",
     "text": [
      "[>>Codigo 15 Saldo 1100 <<] [>>Codigo 47685 Saldo 1200 <<]\n",
      "[>>Codigo 15 Saldo 1200 <<] [>>Codigo 47685 Saldo 1300 <<]\n"
     ]
    }
   ],
   "source": [
    "def deposita_para_todas(contas):\n",
    "    for conta in contas:\n",
    "        conta.deposita(100)\n",
    "contas = [conda_do_pedro, conta_da_dani]\n",
    "print(contas[0], contas[1])\n",
    "deposita_para_todas(contas)\n",
    "print(contas[0], contas[1])"
   ]
  },
  {
   "cell_type": "code",
   "execution_count": 92,
   "id": "4bbdf40e",
   "metadata": {},
   "outputs": [
    {
     "name": "stdout",
     "output_type": "stream",
     "text": [
      "76 [>>Codigo 15 Saldo 1200 <<] [>>Codigo 47685 Saldo 1300 <<]\n"
     ]
    }
   ],
   "source": [
    "contas.insert(0, 76)\n",
    "print(contas[0], contas[1], contas[2])"
   ]
  },
  {
   "cell_type": "code",
   "execution_count": 93,
   "id": "6070d176",
   "metadata": {},
   "outputs": [],
   "source": [
    "pedro = ('Pedro', 24, 1997) # tupla\n",
    "dani = ('Dani', 25, 1996)"
   ]
  },
  {
   "cell_type": "code",
   "execution_count": 94,
   "id": "23cd2103",
   "metadata": {},
   "outputs": [
    {
     "data": {
      "text/plain": [
       "'Pedro'"
      ]
     },
     "execution_count": 94,
     "metadata": {},
     "output_type": "execute_result"
    }
   ],
   "source": [
    "pedro[0]"
   ]
  },
  {
   "cell_type": "code",
   "execution_count": 103,
   "id": "e4751292",
   "metadata": {},
   "outputs": [],
   "source": [
    "def deposita(conta):\n",
    "    novo_saldo = conta[1] + 100\n",
    "    codigo = conta[0]\n",
    "    return (codigo, novo_saldo)"
   ]
  },
  {
   "cell_type": "code",
   "execution_count": 104,
   "id": "a925d33d",
   "metadata": {},
   "outputs": [],
   "source": [
    "conta_do_gui = (15, 1000)"
   ]
  },
  {
   "cell_type": "code",
   "execution_count": 105,
   "id": "89a4efc0",
   "metadata": {},
   "outputs": [
    {
     "data": {
      "text/plain": [
       "(15, 1100)"
      ]
     },
     "execution_count": 105,
     "metadata": {},
     "output_type": "execute_result"
    }
   ],
   "source": [
    "deposita(conta_do_gui)"
   ]
  },
  {
   "cell_type": "code",
   "execution_count": 110,
   "id": "77fc73a4",
   "metadata": {},
   "outputs": [
    {
     "data": {
      "text/plain": [
       "[('Pedro', 24, 1997), ('Dani', 25, 1996)]"
      ]
     },
     "execution_count": 110,
     "metadata": {},
     "output_type": "execute_result"
    }
   ],
   "source": [
    "usuarios = [pedro, dani]\n",
    "usuarios"
   ]
  },
  {
   "cell_type": "code",
   "execution_count": 111,
   "id": "bbbef417",
   "metadata": {},
   "outputs": [
    {
     "data": {
      "text/plain": [
       "[('Pedro', 24, 1997), ('Dani', 25, 1996), ('Paula', 39, 1987)]"
      ]
     },
     "execution_count": 111,
     "metadata": {},
     "output_type": "execute_result"
    }
   ],
   "source": [
    "usuarios.append(('Paula', 39, 1987))\n",
    "usuarios"
   ]
  },
  {
   "cell_type": "code",
   "execution_count": 112,
   "id": "9ed812bd",
   "metadata": {},
   "outputs": [
    {
     "data": {
      "text/plain": [
       "(<__main__.ContaCorrente at 0x1f082c3d220>,\n",
       " <__main__.ContaCorrente at 0x1f0800051f0>)"
      ]
     },
     "execution_count": 112,
     "metadata": {},
     "output_type": "execute_result"
    }
   ],
   "source": [
    "conta_do_gui = ContaCorrente(15)\n",
    "conta_do_gui.deposita(500)\n",
    "conta_da_dani = ContaCorrente(234876)\n",
    "conta_da_dani.deposita(1000)\n",
    "\n",
    "contas = (conta_do_gui, conta_da_dani)\n",
    "\n",
    "contas"
   ]
  },
  {
   "cell_type": "code",
   "execution_count": 113,
   "id": "be0d0d49",
   "metadata": {},
   "outputs": [
    {
     "name": "stdout",
     "output_type": "stream",
     "text": [
      "[>>Codigo 15 Saldo 500 <<]\n",
      "[>>Codigo 234876 Saldo 1000 <<]\n"
     ]
    }
   ],
   "source": [
    "for conta in contas: \n",
    "  print(conta)"
   ]
  },
  {
   "cell_type": "code",
   "execution_count": 114,
   "id": "884f7edd",
   "metadata": {},
   "outputs": [],
   "source": [
    "contas[0].deposita(300)"
   ]
  },
  {
   "cell_type": "code",
   "execution_count": 115,
   "id": "ad3d9803",
   "metadata": {},
   "outputs": [
    {
     "name": "stdout",
     "output_type": "stream",
     "text": [
      "[>>Codigo 15 Saldo 800 <<]\n",
      "[>>Codigo 234876 Saldo 1000 <<]\n"
     ]
    }
   ],
   "source": [
    "for conta in contas: \n",
    "  print(conta)"
   ]
  },
  {
   "cell_type": "code",
   "execution_count": 149,
   "id": "0bef1225",
   "metadata": {},
   "outputs": [],
   "source": [
    "from abc import ABCMeta, abstractclassmethod\n",
    "class Conta:\n",
    "    def __init__(self, codigo):\n",
    "        self._codigo = codigo\n",
    "        self._saldo = 0\n",
    "    \n",
    "    def deposita(self, valor):\n",
    "        self._saldo += valor\n",
    "    \n",
    "    @abstractclassmethod\n",
    "    def passa_o_mes(self):\n",
    "        pass\n",
    "    \n",
    "    def __str__(self):\n",
    "        return \"[>>Codigo {} Saldo {} <<]\".format(self._codigo, self._saldo)"
   ]
  },
  {
   "cell_type": "code",
   "execution_count": 134,
   "id": "f45d0f6d",
   "metadata": {},
   "outputs": [
    {
     "name": "stdout",
     "output_type": "stream",
     "text": [
      "[>>Codigo 88 Saldo 0 <<]\n"
     ]
    }
   ],
   "source": [
    "print(Conta(88))"
   ]
  },
  {
   "cell_type": "code",
   "execution_count": 135,
   "id": "ad7f5fb2",
   "metadata": {},
   "outputs": [],
   "source": [
    "class ContaCorrente(Conta):\n",
    "    \n",
    "    def passa_o_mes(self):\n",
    "        self._saldo -= 2\n",
    "\n",
    "class ContaPoupanca(Conta):\n",
    "    \n",
    "    def passa_o_mes(self):\n",
    "        self._saldo += 1.01\n",
    "        self._saldo -=3"
   ]
  },
  {
   "cell_type": "code",
   "execution_count": 136,
   "id": "c73f19e3",
   "metadata": {},
   "outputs": [
    {
     "name": "stdout",
     "output_type": "stream",
     "text": [
      "[>>Codigo 16 Saldo 998 <<]\n"
     ]
    }
   ],
   "source": [
    "conta16 = ContaCorrente(16)\n",
    "conta16.deposita(1000)\n",
    "conta16.passa_o_mes()\n",
    "print(conta16)"
   ]
  },
  {
   "cell_type": "code",
   "execution_count": 137,
   "id": "a478f40f",
   "metadata": {},
   "outputs": [
    {
     "name": "stdout",
     "output_type": "stream",
     "text": [
      "[>>Codigo 17 Saldo 998.01 <<]\n"
     ]
    }
   ],
   "source": [
    "conta17 = ContaPoupanca(17)\n",
    "conta17.deposita(1000)\n",
    "conta17.passa_o_mes()\n",
    "print(conta17)"
   ]
  },
  {
   "cell_type": "code",
   "execution_count": 139,
   "id": "d91a2b5a",
   "metadata": {},
   "outputs": [
    {
     "name": "stdout",
     "output_type": "stream",
     "text": [
      "[>>Codigo 16 Saldo 998 <<]\n",
      "[>>Codigo 17 Saldo 998.01 <<]\n"
     ]
    }
   ],
   "source": [
    "conta16 = ContaCorrente(16)\n",
    "conta16.deposita(1000)\n",
    "conta17 = ContaPoupanca(17)\n",
    "conta17.deposita(1000)\n",
    "contas = [conta16, conta17]\n",
    "for conta in contas:\n",
    "    conta.passa_o_mes()\n",
    "    print(conta)"
   ]
  },
  {
   "cell_type": "code",
   "execution_count": 140,
   "id": "6d9a7e35",
   "metadata": {},
   "outputs": [],
   "source": [
    "import array as arr"
   ]
  },
  {
   "cell_type": "code",
   "execution_count": 141,
   "id": "a787e0b1",
   "metadata": {},
   "outputs": [
    {
     "data": {
      "text/plain": [
       "array('d', [1.0, 3.5])"
      ]
     },
     "execution_count": 141,
     "metadata": {},
     "output_type": "execute_result"
    }
   ],
   "source": [
    "arr.array('d', [1, 3.5])"
   ]
  },
  {
   "cell_type": "code",
   "execution_count": 144,
   "id": "3eaf158b",
   "metadata": {},
   "outputs": [],
   "source": [
    "import numpy as np"
   ]
  },
  {
   "cell_type": "code",
   "execution_count": 146,
   "id": "f0945302",
   "metadata": {},
   "outputs": [],
   "source": [
    "numeros = np.array([1, 3.5])"
   ]
  },
  {
   "cell_type": "code",
   "execution_count": 147,
   "id": "9a4b3b27",
   "metadata": {
    "scrolled": true
   },
   "outputs": [
    {
     "data": {
      "text/plain": [
       "array([1. , 3.5])"
      ]
     },
     "execution_count": 147,
     "metadata": {},
     "output_type": "execute_result"
    }
   ],
   "source": [
    "numeros"
   ]
  },
  {
   "cell_type": "code",
   "execution_count": 148,
   "id": "df5f3ca6",
   "metadata": {},
   "outputs": [
    {
     "name": "stdout",
     "output_type": "stream",
     "text": [
      "[4.  6.5]\n"
     ]
    }
   ],
   "source": [
    "x = numeros + 3\n",
    "print(x)"
   ]
  },
  {
   "cell_type": "code",
   "execution_count": 169,
   "id": "faef09a8",
   "metadata": {},
   "outputs": [],
   "source": [
    "class ContaSalario:\n",
    "    \n",
    "    def __init__(self, codigo):\n",
    "        self._codigo = codigo\n",
    "        self._saldo = 0\n",
    "    \n",
    "    def deposita(self, valor):\n",
    "        self.saldo += valor\n",
    "        \n",
    "    def __eq__(self, outro):\n",
    "        if type(outro) != ContaSalario:\n",
    "            return False\n",
    "        return self._codigo == outro._codigo and self._saldo == outro._saldo\n",
    "    \n",
    "    def __str__(self):\n",
    "        return '[>> Codigo {} saldo {} <<]'.format(self._codigo, self._saldo)"
   ]
  },
  {
   "cell_type": "code",
   "execution_count": 163,
   "id": "8d89c348",
   "metadata": {},
   "outputs": [
    {
     "name": "stdout",
     "output_type": "stream",
     "text": [
      "[>> Codigo 37 saldo 0 <<]\n"
     ]
    }
   ],
   "source": [
    "conta1 = ContaSalario(37)\n",
    "print(conta1)"
   ]
  },
  {
   "cell_type": "code",
   "execution_count": 164,
   "id": "9bda2e00",
   "metadata": {},
   "outputs": [
    {
     "name": "stdout",
     "output_type": "stream",
     "text": [
      "[>> Codigo 37 saldo 0 <<]\n"
     ]
    }
   ],
   "source": [
    "conta2 = ContaSalario(37)\n",
    "print(conta2)"
   ]
  },
  {
   "cell_type": "code",
   "execution_count": 165,
   "id": "38a88b56",
   "metadata": {},
   "outputs": [
    {
     "data": {
      "text/plain": [
       "True"
      ]
     },
     "execution_count": 165,
     "metadata": {},
     "output_type": "execute_result"
    }
   ],
   "source": [
    "conta1 == conta2"
   ]
  },
  {
   "cell_type": "code",
   "execution_count": 166,
   "id": "a886f6d9",
   "metadata": {},
   "outputs": [
    {
     "data": {
      "text/plain": [
       "True"
      ]
     },
     "execution_count": 166,
     "metadata": {},
     "output_type": "execute_result"
    }
   ],
   "source": [
    "contas = [conta1]\n",
    "conta1 in contas"
   ]
  },
  {
   "cell_type": "code",
   "execution_count": 167,
   "id": "432fd603",
   "metadata": {},
   "outputs": [
    {
     "data": {
      "text/plain": [
       "True"
      ]
     },
     "execution_count": 167,
     "metadata": {},
     "output_type": "execute_result"
    }
   ],
   "source": [
    "conta2 in contas"
   ]
  },
  {
   "cell_type": "code",
   "execution_count": 171,
   "id": "0848d0c2",
   "metadata": {},
   "outputs": [
    {
     "data": {
      "text/plain": [
       "False"
      ]
     },
     "execution_count": 171,
     "metadata": {},
     "output_type": "execute_result"
    }
   ],
   "source": [
    "conta1 = ContaSalario(37)\n",
    "conta2 = ContaCorrente(37) \n",
    "conta1 == conta2"
   ]
  },
  {
   "cell_type": "code",
   "execution_count": 176,
   "id": "c415555d",
   "metadata": {},
   "outputs": [
    {
     "name": "stdout",
     "output_type": "stream",
     "text": [
      "0 15\n",
      "1 87\n",
      "2 32\n",
      "3 65\n",
      "4 56\n",
      "5 32\n",
      "6 49\n",
      "7 37\n"
     ]
    }
   ],
   "source": [
    "idades = [15, 87, 32, 65, 56, 32, 49, 37]\n",
    "for i in range(len(idades)):\n",
    "    print(i, idades[i])"
   ]
  },
  {
   "cell_type": "code",
   "execution_count": 177,
   "id": "97d1db7c",
   "metadata": {},
   "outputs": [
    {
     "data": {
      "text/plain": [
       "<enumerate at 0x1f09a9d8340>"
      ]
     },
     "execution_count": 177,
     "metadata": {},
     "output_type": "execute_result"
    }
   ],
   "source": [
    "enumerate(idades)"
   ]
  },
  {
   "cell_type": "code",
   "execution_count": 178,
   "id": "a8eb9668",
   "metadata": {},
   "outputs": [
    {
     "data": {
      "text/plain": [
       "[0, 1, 2, 3, 4, 5, 6, 7]"
      ]
     },
     "execution_count": 178,
     "metadata": {},
     "output_type": "execute_result"
    }
   ],
   "source": [
    "list(range(len(idades)))"
   ]
  },
  {
   "cell_type": "code",
   "execution_count": 179,
   "id": "1ea85e12",
   "metadata": {},
   "outputs": [
    {
     "data": {
      "text/plain": [
       "[(0, 15), (1, 87), (2, 32), (3, 65), (4, 56), (5, 32), (6, 49), (7, 37)]"
      ]
     },
     "execution_count": 179,
     "metadata": {},
     "output_type": "execute_result"
    }
   ],
   "source": [
    "list(enumerate(idades))"
   ]
  },
  {
   "cell_type": "code",
   "execution_count": 182,
   "id": "d0110936",
   "metadata": {},
   "outputs": [
    {
     "name": "stdout",
     "output_type": "stream",
     "text": [
      "0 x 15\n",
      "1 x 87\n",
      "2 x 32\n",
      "3 x 65\n",
      "4 x 56\n",
      "5 x 32\n",
      "6 x 49\n",
      "7 x 37\n"
     ]
    }
   ],
   "source": [
    "for indice, idade in enumerate(idades):\n",
    "    print(indice,'x' , idade)"
   ]
  },
  {
   "cell_type": "code",
   "execution_count": 186,
   "id": "98878bf0",
   "metadata": {},
   "outputs": [
    {
     "name": "stdout",
     "output_type": "stream",
     "text": [
      "Guilherme\n",
      "Pedro\n",
      "Paulo\n"
     ]
    }
   ],
   "source": [
    "usuarios = [\n",
    "    ('Guilherme', 37, 1981),\n",
    "    ('Pedro', 24, 1997),\n",
    "    ('Paulo', 39, 1979)\n",
    "]\n",
    "for nome, idade, nascimento in usuarios:\n",
    "    print(nome)"
   ]
  },
  {
   "cell_type": "code",
   "execution_count": 187,
   "id": "e2dca4d1",
   "metadata": {},
   "outputs": [
    {
     "name": "stdout",
     "output_type": "stream",
     "text": [
      "Guilherme\n",
      "Pedro\n",
      "Paulo\n"
     ]
    }
   ],
   "source": [
    "for nome, _, _ in usuarios:\n",
    "    print(nome)"
   ]
  },
  {
   "cell_type": "code",
   "execution_count": 188,
   "id": "0fac2fa9",
   "metadata": {},
   "outputs": [
    {
     "data": {
      "text/plain": [
       "[15, 87, 32, 65, 56, 32, 49, 37]"
      ]
     },
     "execution_count": 188,
     "metadata": {},
     "output_type": "execute_result"
    }
   ],
   "source": [
    "idades"
   ]
  },
  {
   "cell_type": "code",
   "execution_count": 189,
   "id": "ecf7fb52",
   "metadata": {},
   "outputs": [
    {
     "data": {
      "text/plain": [
       "[15, 32, 32, 37, 49, 56, 65, 87]"
      ]
     },
     "execution_count": 189,
     "metadata": {},
     "output_type": "execute_result"
    }
   ],
   "source": [
    "sorted(idades)"
   ]
  },
  {
   "cell_type": "code",
   "execution_count": 192,
   "id": "3ad4a3e1",
   "metadata": {},
   "outputs": [
    {
     "data": {
      "text/plain": [
       "[37, 49, 32, 56, 65, 32, 87, 15]"
      ]
     },
     "execution_count": 192,
     "metadata": {},
     "output_type": "execute_result"
    }
   ],
   "source": [
    "list(reversed(idades))"
   ]
  },
  {
   "cell_type": "code",
   "execution_count": 193,
   "id": "5afc1c4d",
   "metadata": {},
   "outputs": [
    {
     "data": {
      "text/plain": [
       "[87, 65, 56, 49, 37, 32, 32, 15]"
      ]
     },
     "execution_count": 193,
     "metadata": {},
     "output_type": "execute_result"
    }
   ],
   "source": [
    "sorted(idades, reverse=True)"
   ]
  },
  {
   "cell_type": "code",
   "execution_count": 194,
   "id": "1d2b17b3",
   "metadata": {},
   "outputs": [
    {
     "data": {
      "text/plain": [
       "[87, 65, 56, 49, 37, 32, 32, 15]"
      ]
     },
     "execution_count": 194,
     "metadata": {},
     "output_type": "execute_result"
    }
   ],
   "source": [
    "list(reversed(sorted(idades)))"
   ]
  },
  {
   "cell_type": "code",
   "execution_count": 195,
   "id": "77663df9",
   "metadata": {},
   "outputs": [
    {
     "data": {
      "text/plain": [
       "[15, 87, 32, 65, 56, 32, 49, 37]"
      ]
     },
     "execution_count": 195,
     "metadata": {},
     "output_type": "execute_result"
    }
   ],
   "source": [
    "idades"
   ]
  },
  {
   "cell_type": "code",
   "execution_count": 196,
   "id": "fb0c9d79",
   "metadata": {},
   "outputs": [],
   "source": [
    "idades.sort()"
   ]
  },
  {
   "cell_type": "code",
   "execution_count": 197,
   "id": "b9f58b4c",
   "metadata": {},
   "outputs": [
    {
     "data": {
      "text/plain": [
       "[15, 32, 32, 37, 49, 56, 65, 87]"
      ]
     },
     "execution_count": 197,
     "metadata": {},
     "output_type": "execute_result"
    }
   ],
   "source": [
    "idades"
   ]
  },
  {
   "cell_type": "code",
   "execution_count": 198,
   "id": "9198f46e",
   "metadata": {},
   "outputs": [
    {
     "data": {
      "text/plain": [
       "['Daniela', 'Pedro', 'guilherme']"
      ]
     },
     "execution_count": 198,
     "metadata": {},
     "output_type": "execute_result"
    }
   ],
   "source": [
    "nomes = ['guilherme', 'Daniela', 'Pedro']\n",
    "sorted(nomes)"
   ]
  },
  {
   "cell_type": "code",
   "execution_count": 199,
   "id": "be01c3b9",
   "metadata": {},
   "outputs": [],
   "source": [
    "class ContaSalario:\n",
    "    \n",
    "    def __init__(self, codigo):\n",
    "        self._codigo = codigo\n",
    "        self._saldo = 0\n",
    "    \n",
    "    def __eq__(self, outro):\n",
    "        if type(outro) != ContaSalario:\n",
    "            return False\n",
    "        \n",
    "        return self._codigo == outro._codigo and self._saldo == outro._saldo\n",
    "    \n",
    "    def deposita(self, valor):\n",
    "        self._saldo += valor\n",
    "    \n",
    "    def __str__(self):\n",
    "        return '[>> Codigo {} saldo {} <<]'.format(self._codigo, self._saldo)"
   ]
  },
  {
   "cell_type": "code",
   "execution_count": 200,
   "id": "3f59bbda",
   "metadata": {},
   "outputs": [],
   "source": [
    "conta_do_guilherme = ContaSalario(17)\n",
    "conta_do_guilherme.deposita(500)\n",
    "\n",
    "conta_da_daniela = ContaSalario(3)\n",
    "conta_da_daniela.deposita(1000)\n",
    "\n",
    "conta_do_paulo = ContaSalario(133)\n",
    "conta_do_paulo.deposita(510)\n",
    "\n",
    "contas = [conta_do_guilherme, conta_da_daniela, conta_do_paulo]"
   ]
  },
  {
   "cell_type": "code",
   "execution_count": 201,
   "id": "9f57d710",
   "metadata": {},
   "outputs": [
    {
     "name": "stdout",
     "output_type": "stream",
     "text": [
      "[>> Codigo 17 saldo 500 <<]\n",
      "[>> Codigo 3 saldo 1000 <<]\n",
      "[>> Codigo 133 saldo 510 <<]\n"
     ]
    }
   ],
   "source": [
    "for conta in contas:\n",
    "    print(conta)"
   ]
  },
  {
   "cell_type": "code",
   "execution_count": 204,
   "id": "472c3e88",
   "metadata": {},
   "outputs": [
    {
     "name": "stdout",
     "output_type": "stream",
     "text": [
      "[>> Codigo 17 saldo 500 <<]\n",
      "[>> Codigo 133 saldo 510 <<]\n",
      "[>> Codigo 3 saldo 1000 <<]\n"
     ]
    }
   ],
   "source": [
    "def extrai_saldo(conta):\n",
    "    return conta._saldo\n",
    "\n",
    "for conta in sorted(contas, key=extrai_saldo):\n",
    "    print(conta)"
   ]
  },
  {
   "cell_type": "code",
   "execution_count": 205,
   "id": "a6b655ac",
   "metadata": {},
   "outputs": [
    {
     "name": "stdout",
     "output_type": "stream",
     "text": [
      "[>> Codigo 17 saldo 500 <<]\n",
      "[>> Codigo 133 saldo 510 <<]\n",
      "[>> Codigo 3 saldo 1000 <<]\n"
     ]
    }
   ],
   "source": [
    "from operator import attrgetter\n",
    "\n",
    "for conta in sorted(contas, key=attrgetter('_saldo')):\n",
    "    print(conta)"
   ]
  },
  {
   "cell_type": "code",
   "execution_count": 208,
   "id": "5791deda",
   "metadata": {},
   "outputs": [],
   "source": [
    "class ContaSalario:\n",
    "    \n",
    "    def __init__(self, codigo):\n",
    "        self._codigo = codigo\n",
    "        self._saldo = 0\n",
    "    \n",
    "    def __eq__(self, outro):\n",
    "        if type(outro) != ContaSalario:\n",
    "            return False\n",
    "        \n",
    "        return self._codigo == outro._codigo and self._saldo == outro._saldo\n",
    "    \n",
    "    def __lt__(self, outro):\n",
    "        return self._saldo < outro._saldo\n",
    "    \n",
    "    def deposita(self, valor):\n",
    "        self._saldo += valor\n",
    "    \n",
    "    def __str__(self):\n",
    "        return '[>> Codigo {} saldo {} <<]'.format(self._codigo, self._saldo)"
   ]
  },
  {
   "cell_type": "code",
   "execution_count": 209,
   "id": "0608242b",
   "metadata": {},
   "outputs": [],
   "source": [
    "conta_do_guilherme = ContaSalario(17)\n",
    "conta_do_guilherme.deposita(500)\n",
    "\n",
    "conta_da_daniela = ContaSalario(3)\n",
    "conta_da_daniela.deposita(1000)\n",
    "\n",
    "conta_do_paulo = ContaSalario(133)\n",
    "conta_do_paulo.deposita(510)\n",
    "\n",
    "contas = [conta_do_guilherme, conta_da_daniela, conta_do_paulo]"
   ]
  },
  {
   "cell_type": "code",
   "execution_count": 211,
   "id": "964c077a",
   "metadata": {},
   "outputs": [
    {
     "data": {
      "text/plain": [
       "False"
      ]
     },
     "execution_count": 211,
     "metadata": {},
     "output_type": "execute_result"
    }
   ],
   "source": [
    "conta_do_guilherme > conta_da_daniela"
   ]
  },
  {
   "cell_type": "code",
   "execution_count": 212,
   "id": "35c3e313",
   "metadata": {},
   "outputs": [
    {
     "data": {
      "text/plain": [
       "[<__main__.ContaSalario at 0x1f09a936ca0>,\n",
       " <__main__.ContaSalario at 0x1f09a9369a0>,\n",
       " <__main__.ContaSalario at 0x1f09a936a00>]"
      ]
     },
     "execution_count": 212,
     "metadata": {},
     "output_type": "execute_result"
    }
   ],
   "source": [
    "sorted(contas)"
   ]
  },
  {
   "cell_type": "code",
   "execution_count": 213,
   "id": "3cfbe17e",
   "metadata": {},
   "outputs": [
    {
     "name": "stdout",
     "output_type": "stream",
     "text": [
      "[>> Codigo 17 saldo 500 <<]\n",
      "[>> Codigo 133 saldo 510 <<]\n",
      "[>> Codigo 3 saldo 1000 <<]\n"
     ]
    }
   ],
   "source": [
    "for conta in sorted(contas):\n",
    "    print(conta)"
   ]
  },
  {
   "cell_type": "code",
   "execution_count": 214,
   "id": "b43e3bfa",
   "metadata": {},
   "outputs": [
    {
     "name": "stdout",
     "output_type": "stream",
     "text": [
      "[>> Codigo 3 saldo 1000 <<]\n",
      "[>> Codigo 133 saldo 510 <<]\n",
      "[>> Codigo 17 saldo 500 <<]\n"
     ]
    }
   ],
   "source": [
    "for conta in sorted(contas, reverse=True):\n",
    "    print(conta)"
   ]
  },
  {
   "cell_type": "code",
   "execution_count": null,
   "id": "843662fe",
   "metadata": {},
   "outputs": [],
   "source": [
    "conta_do_guilherme = ContaSalario(1700)\n",
    "conta_do_guilherme.deposita(500)\n",
    "\n",
    "conta_da_daniela = ContaSalario(3)\n",
    "conta_da_daniela.deposita(1000)\n",
    "\n",
    "conta_do_paulo = ContaSalario(133)\n",
    "conta_do_paulo.deposita(500)\n",
    "\n",
    "contas = [conta_do_guilherme, conta_da_daniela, conta_do_paulo]"
   ]
  },
  {
   "cell_type": "code",
   "execution_count": 215,
   "id": "22ccc482",
   "metadata": {},
   "outputs": [
    {
     "name": "stdout",
     "output_type": "stream",
     "text": [
      "[>> Codigo 17 saldo 500 <<]\n",
      "[>> Codigo 133 saldo 510 <<]\n",
      "[>> Codigo 3 saldo 1000 <<]\n"
     ]
    }
   ],
   "source": [
    "for conta in sorted(contas, key=attrgetter(\"_saldo\", \"_codigo\")):\n",
    "    print(conta)\n",
    "    "
   ]
  },
  {
   "cell_type": "code",
   "execution_count": 216,
   "id": "310342dd",
   "metadata": {},
   "outputs": [],
   "source": [
    "conta_do_guilherme = ContaSalario(1700)\n",
    "conta_do_guilherme.deposita(500)\n",
    "\n",
    "conta_da_daniela = ContaSalario(3)\n",
    "conta_da_daniela.deposita(500)\n",
    "\n",
    "conta_do_paulo = ContaSalario(133)\n",
    "conta_do_paulo.deposita(500)\n",
    "\n",
    "contas = [conta_do_guilherme, conta_da_daniela, conta_do_paulo]"
   ]
  },
  {
   "cell_type": "code",
   "execution_count": 217,
   "id": "3f9e21b8",
   "metadata": {},
   "outputs": [
    {
     "name": "stdout",
     "output_type": "stream",
     "text": [
      "[>> Codigo 3 saldo 500 <<]\n",
      "[>> Codigo 133 saldo 500 <<]\n",
      "[>> Codigo 1700 saldo 500 <<]\n"
     ]
    }
   ],
   "source": [
    "for conta in sorted(contas, key=attrgetter(\"_saldo\", \"_codigo\")):\n",
    "    print(conta)"
   ]
  },
  {
   "cell_type": "code",
   "execution_count": 223,
   "id": "b64bc3fb",
   "metadata": {},
   "outputs": [],
   "source": [
    "class ContaSalario:\n",
    "    \n",
    "    def __init__(self, codigo):\n",
    "        self._codigo = codigo\n",
    "        self._saldo = 0\n",
    "    \n",
    "    def __eq__(self, outro):\n",
    "        if type(outro) != ContaSalario:\n",
    "            return False\n",
    "        \n",
    "        return self._codigo == outro._codigo and self._saldo == outro._saldo\n",
    "    \n",
    "    def __lt__(self, outro):\n",
    "        if self._saldo != outro._saldo:\n",
    "            return self._saldo < outro._saldo\n",
    "        return self._codigo < outro._codigo\n",
    "    \n",
    "    def deposita(self, valor):\n",
    "        self._saldo += valor\n",
    "    \n",
    "    def __str__(self):\n",
    "        return '[>> Codigo {} saldo {} <<]'.format(self._codigo, self._saldo)"
   ]
  },
  {
   "cell_type": "code",
   "execution_count": 224,
   "id": "f378eaa7",
   "metadata": {},
   "outputs": [],
   "source": [
    "conta_do_guilherme = ContaSalario(1700)\n",
    "conta_do_guilherme.deposita(500)\n",
    "\n",
    "conta_da_daniela = ContaSalario(3)\n",
    "conta_da_daniela.deposita(500)\n",
    "\n",
    "conta_do_paulo = ContaSalario(133)\n",
    "conta_do_paulo.deposita(500)\n",
    "\n",
    "contas = [conta_do_guilherme, conta_da_daniela, conta_do_paulo]"
   ]
  },
  {
   "cell_type": "code",
   "execution_count": 225,
   "id": "61659162",
   "metadata": {},
   "outputs": [
    {
     "name": "stdout",
     "output_type": "stream",
     "text": [
      "[>> Codigo 3 saldo 500 <<]\n",
      "[>> Codigo 133 saldo 500 <<]\n",
      "[>> Codigo 1700 saldo 500 <<]\n"
     ]
    }
   ],
   "source": [
    "for conta in sorted(contas):\n",
    "    print(conta)"
   ]
  },
  {
   "cell_type": "code",
   "execution_count": 226,
   "id": "4f30e1c2",
   "metadata": {},
   "outputs": [],
   "source": [
    "conta_do_guilherme = ContaSalario(1700)\n",
    "conta_do_guilherme.deposita(500)\n",
    "\n",
    "conta_da_daniela = ContaSalario(3)\n",
    "conta_da_daniela.deposita(1000)\n",
    "\n",
    "conta_do_paulo = ContaSalario(133)\n",
    "conta_do_paulo.deposita(500)\n",
    "\n",
    "contas = [conta_do_guilherme, conta_da_daniela, conta_do_paulo]"
   ]
  },
  {
   "cell_type": "code",
   "execution_count": 227,
   "id": "59cd5e02",
   "metadata": {},
   "outputs": [
    {
     "name": "stdout",
     "output_type": "stream",
     "text": [
      "[>> Codigo 133 saldo 500 <<]\n",
      "[>> Codigo 1700 saldo 500 <<]\n",
      "[>> Codigo 3 saldo 1000 <<]\n"
     ]
    }
   ],
   "source": [
    "for conta in sorted(contas):\n",
    "    print(conta)"
   ]
  },
  {
   "cell_type": "code",
   "execution_count": 229,
   "id": "71e99331",
   "metadata": {},
   "outputs": [],
   "source": [
    "# conta_do_guilherme <= conta_da_daniela ERROR"
   ]
  },
  {
   "cell_type": "code",
   "execution_count": 230,
   "id": "29b17281",
   "metadata": {},
   "outputs": [],
   "source": [
    "from functools import total_ordering\n",
    "\n",
    "@total_ordering\n",
    "class ContaSalario:\n",
    "    \n",
    "    def __init__(self, codigo):\n",
    "        self._codigo = codigo\n",
    "        self._saldo = 0\n",
    "    \n",
    "    def __eq__(self, outro):\n",
    "        if type(outro) != ContaSalario:\n",
    "            return False\n",
    "        \n",
    "        return self._codigo == outro._codigo and self._saldo == outro._saldo\n",
    "    \n",
    "    def __lt__(self, outro):\n",
    "        if self._saldo != outro._saldo:\n",
    "            return self._saldo < outro._saldo\n",
    "        return self._codigo < outro._codigo\n",
    "    \n",
    "    def deposita(self, valor):\n",
    "        self._saldo += valor\n",
    "    \n",
    "    def __str__(self):\n",
    "        return '[>> Codigo {} saldo {} <<]'.format(self._codigo, self._saldo)"
   ]
  },
  {
   "cell_type": "code",
   "execution_count": 231,
   "id": "4fef3766",
   "metadata": {},
   "outputs": [],
   "source": [
    "conta_do_guilherme = ContaSalario(1700)\n",
    "conta_do_guilherme.deposita(500)\n",
    "\n",
    "conta_da_daniela = ContaSalario(3)\n",
    "conta_da_daniela.deposita(1000)\n",
    "\n",
    "conta_do_paulo = ContaSalario(133)\n",
    "conta_do_paulo.deposita(500)\n",
    "\n",
    "contas = [conta_do_guilherme, conta_da_daniela, conta_do_paulo]"
   ]
  },
  {
   "cell_type": "code",
   "execution_count": 232,
   "id": "f435dffa",
   "metadata": {},
   "outputs": [
    {
     "data": {
      "text/plain": [
       "True"
      ]
     },
     "execution_count": 232,
     "metadata": {},
     "output_type": "execute_result"
    }
   ],
   "source": [
    "conta_do_guilherme <= conta_da_daniela"
   ]
  },
  {
   "cell_type": "code",
   "execution_count": 233,
   "id": "7d6ffc2b",
   "metadata": {},
   "outputs": [
    {
     "data": {
      "text/plain": [
       "False"
      ]
     },
     "execution_count": 233,
     "metadata": {},
     "output_type": "execute_result"
    }
   ],
   "source": [
    "conta_do_guilherme <= conta_do_paulo"
   ]
  },
  {
   "cell_type": "code",
   "execution_count": 234,
   "id": "c24750c8",
   "metadata": {},
   "outputs": [
    {
     "data": {
      "text/plain": [
       "False"
      ]
     },
     "execution_count": 234,
     "metadata": {},
     "output_type": "execute_result"
    }
   ],
   "source": [
    "conta_do_guilherme < conta_do_guilherme"
   ]
  },
  {
   "cell_type": "code",
   "execution_count": 235,
   "id": "efea0e31",
   "metadata": {},
   "outputs": [
    {
     "data": {
      "text/plain": [
       "True"
      ]
     },
     "execution_count": 235,
     "metadata": {},
     "output_type": "execute_result"
    }
   ],
   "source": [
    "conta_do_guilherme == conta_do_guilherme"
   ]
  },
  {
   "cell_type": "code",
   "execution_count": 236,
   "id": "49ce6120",
   "metadata": {},
   "outputs": [
    {
     "data": {
      "text/plain": [
       "True"
      ]
     },
     "execution_count": 236,
     "metadata": {},
     "output_type": "execute_result"
    }
   ],
   "source": [
    "conta_do_guilherme <= conta_do_guilherme"
   ]
  },
  {
   "cell_type": "code",
   "execution_count": null,
   "id": "e3d160bf",
   "metadata": {},
   "outputs": [],
   "source": []
  }
 ],
 "metadata": {
  "kernelspec": {
   "display_name": "Python 3 (ipykernel)",
   "language": "python",
   "name": "python3"
  },
  "language_info": {
   "codemirror_mode": {
    "name": "ipython",
    "version": 3
   },
   "file_extension": ".py",
   "mimetype": "text/x-python",
   "name": "python",
   "nbconvert_exporter": "python",
   "pygments_lexer": "ipython3",
   "version": "3.9.5"
  }
 },
 "nbformat": 4,
 "nbformat_minor": 5
}
