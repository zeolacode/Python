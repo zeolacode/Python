{
 "cells": [
  {
   "cell_type": "code",
   "execution_count": 1,
   "id": "45b5c60b",
   "metadata": {},
   "outputs": [],
   "source": [
    "usuarios_data_science = [15, 23, 43, 56]\n",
    "usuarios_machine_learning = [13, 23, 56, 42]"
   ]
  },
  {
   "cell_type": "code",
   "execution_count": 2,
   "id": "a5682db7",
   "metadata": {},
   "outputs": [
    {
     "data": {
      "text/plain": [
       "[15, 23, 43, 56]"
      ]
     },
     "execution_count": 2,
     "metadata": {},
     "output_type": "execute_result"
    }
   ],
   "source": [
    "assistiram = []\n",
    "assistiram.extend(usuarios_data_science)\n",
    "assistiram"
   ]
  },
  {
   "cell_type": "code",
   "execution_count": 4,
   "id": "ef62078e",
   "metadata": {},
   "outputs": [
    {
     "data": {
      "text/plain": [
       "[15, 23, 43, 56, 13, 23, 56, 42]"
      ]
     },
     "execution_count": 4,
     "metadata": {},
     "output_type": "execute_result"
    }
   ],
   "source": [
    "assistiram = usuarios_data_science.copy()\n",
    "assistiram.extend(usuarios_machine_learning)\n",
    "assistiram"
   ]
  },
  {
   "cell_type": "code",
   "execution_count": 5,
   "id": "7308fa9b",
   "metadata": {},
   "outputs": [
    {
     "data": {
      "text/plain": [
       "8"
      ]
     },
     "execution_count": 5,
     "metadata": {},
     "output_type": "execute_result"
    }
   ],
   "source": [
    "len(assistiram)"
   ]
  },
  {
   "cell_type": "code",
   "execution_count": 6,
   "id": "0af2a209",
   "metadata": {},
   "outputs": [
    {
     "data": {
      "text/plain": [
       "{13, 15, 23, 42, 43, 56}"
      ]
     },
     "execution_count": 6,
     "metadata": {},
     "output_type": "execute_result"
    }
   ],
   "source": [
    "set(assistiram)"
   ]
  },
  {
   "cell_type": "code",
   "execution_count": 7,
   "id": "b1ab1133",
   "metadata": {},
   "outputs": [
    {
     "data": {
      "text/plain": [
       "{1, 2, 3}"
      ]
     },
     "execution_count": 7,
     "metadata": {},
     "output_type": "execute_result"
    }
   ],
   "source": [
    "set([1, 2, 3, 1])"
   ]
  },
  {
   "cell_type": "code",
   "execution_count": 8,
   "id": "87c8840b",
   "metadata": {},
   "outputs": [
    {
     "data": {
      "text/plain": [
       "{1, 2, 3, 4}"
      ]
     },
     "execution_count": 8,
     "metadata": {},
     "output_type": "execute_result"
    }
   ],
   "source": [
    "{1, 2, 3, 4, 1}"
   ]
  },
  {
   "cell_type": "code",
   "execution_count": 9,
   "id": "9ebe582f",
   "metadata": {},
   "outputs": [
    {
     "data": {
      "text/plain": [
       "set"
      ]
     },
     "execution_count": 9,
     "metadata": {},
     "output_type": "execute_result"
    }
   ],
   "source": [
    "type({1, 2, 3})"
   ]
  },
  {
   "cell_type": "code",
   "execution_count": 10,
   "id": "c81bd400",
   "metadata": {},
   "outputs": [],
   "source": [
    "usuarios_data_science = {15, 23, 43, 56}\n",
    "usuarios_machine_learning = {13, 23, 56, 42}"
   ]
  },
  {
   "cell_type": "code",
   "execution_count": 11,
   "id": "55c2655b",
   "metadata": {},
   "outputs": [
    {
     "data": {
      "text/plain": [
       "{13, 23, 42, 56}"
      ]
     },
     "execution_count": 11,
     "metadata": {},
     "output_type": "execute_result"
    }
   ],
   "source": [
    "usuarios_machine_learning"
   ]
  },
  {
   "cell_type": "code",
   "execution_count": 13,
   "id": "b1042cd8",
   "metadata": {},
   "outputs": [],
   "source": [
    " # usuarios_machine_learning[0] ERROR set"
   ]
  },
  {
   "cell_type": "code",
   "execution_count": 14,
   "id": "604beae9",
   "metadata": {},
   "outputs": [
    {
     "name": "stdout",
     "output_type": "stream",
     "text": [
      "42\n",
      "43\n",
      "13\n",
      "15\n",
      "23\n",
      "56\n"
     ]
    }
   ],
   "source": [
    "for usuario in set(assistiram):\n",
    "    print(usuario)"
   ]
  },
  {
   "cell_type": "code",
   "execution_count": 15,
   "id": "62cce383",
   "metadata": {},
   "outputs": [],
   "source": [
    "usuarios_data_science = {15, 23, 43, 56}\n",
    "usuarios_machine_learning = {13, 23, 56, 42}"
   ]
  },
  {
   "cell_type": "code",
   "execution_count": 18,
   "id": "39fd3761",
   "metadata": {},
   "outputs": [
    {
     "data": {
      "text/plain": [
       "{13, 15, 23, 42, 43, 56}"
      ]
     },
     "execution_count": 18,
     "metadata": {},
     "output_type": "execute_result"
    }
   ],
   "source": [
    "usuarios_data_science | usuarios_machine_learning # União dos conjuntos"
   ]
  },
  {
   "cell_type": "code",
   "execution_count": 22,
   "id": "0c3f083d",
   "metadata": {},
   "outputs": [
    {
     "data": {
      "text/plain": [
       "{23, 56}"
      ]
     },
     "execution_count": 22,
     "metadata": {},
     "output_type": "execute_result"
    }
   ],
   "source": [
    "usuarios_data_science & usuarios_machine_learning"
   ]
  },
  {
   "cell_type": "code",
   "execution_count": 23,
   "id": "1d831079",
   "metadata": {},
   "outputs": [
    {
     "data": {
      "text/plain": [
       "{15, 43}"
      ]
     },
     "execution_count": 23,
     "metadata": {},
     "output_type": "execute_result"
    }
   ],
   "source": [
    "usuarios_data_science - usuarios_machine_learning"
   ]
  },
  {
   "cell_type": "code",
   "execution_count": 24,
   "id": "2ff11cb9",
   "metadata": {},
   "outputs": [
    {
     "data": {
      "text/plain": [
       "True"
      ]
     },
     "execution_count": 24,
     "metadata": {},
     "output_type": "execute_result"
    }
   ],
   "source": [
    "fez = usuarios_data_science - usuarios_machine_learning\n",
    "15 in fez"
   ]
  },
  {
   "cell_type": "code",
   "execution_count": 25,
   "id": "fb252d65",
   "metadata": {},
   "outputs": [
    {
     "data": {
      "text/plain": [
       "{13, 15, 42, 43}"
      ]
     },
     "execution_count": 25,
     "metadata": {},
     "output_type": "execute_result"
    }
   ],
   "source": [
    "usuarios_data_science ^ usuarios_machine_learning  # ou (^) exclusivo"
   ]
  },
  {
   "cell_type": "code",
   "execution_count": 26,
   "id": "4d05b0f3",
   "metadata": {},
   "outputs": [
    {
     "data": {
      "text/plain": [
       "7"
      ]
     },
     "execution_count": 26,
     "metadata": {},
     "output_type": "execute_result"
    }
   ],
   "source": [
    "usuarios = {1,5,76,34,52,13,17}\n",
    "len(usuarios)"
   ]
  },
  {
   "cell_type": "code",
   "execution_count": 27,
   "id": "3bf22c67",
   "metadata": {},
   "outputs": [
    {
     "data": {
      "text/plain": [
       "7"
      ]
     },
     "execution_count": 27,
     "metadata": {},
     "output_type": "execute_result"
    }
   ],
   "source": [
    "usuarios.add(13)\n",
    "len(usuarios)"
   ]
  },
  {
   "cell_type": "code",
   "execution_count": 28,
   "id": "32828d8f",
   "metadata": {},
   "outputs": [
    {
     "data": {
      "text/plain": [
       "8"
      ]
     },
     "execution_count": 28,
     "metadata": {},
     "output_type": "execute_result"
    }
   ],
   "source": [
    "usuarios.add(765)\n",
    "len(usuarios)"
   ]
  },
  {
   "cell_type": "code",
   "execution_count": 30,
   "id": "bb6bba63",
   "metadata": {},
   "outputs": [
    {
     "data": {
      "text/plain": [
       "frozenset({1, 5, 13, 17, 34, 52, 76, 765})"
      ]
     },
     "execution_count": 30,
     "metadata": {},
     "output_type": "execute_result"
    }
   ],
   "source": [
    "usuarios = frozenset(usuarios)\n",
    "usuarios"
   ]
  },
  {
   "cell_type": "code",
   "execution_count": 31,
   "id": "b4854fac",
   "metadata": {},
   "outputs": [
    {
     "data": {
      "text/plain": [
       "frozenset"
      ]
     },
     "execution_count": 31,
     "metadata": {},
     "output_type": "execute_result"
    }
   ],
   "source": [
    "type(usuarios)"
   ]
  },
  {
   "cell_type": "code",
   "execution_count": 33,
   "id": "ede3313e",
   "metadata": {},
   "outputs": [],
   "source": [
    "# usuarios.add(39)  'frozenset' object has no attribute 'add'"
   ]
  },
  {
   "cell_type": "code",
   "execution_count": 34,
   "id": "fb249512",
   "metadata": {},
   "outputs": [],
   "source": [
    "meu_texto = \"Bem vindo meu nome é Pedro e gosto muito de nomes e tenho meu cachorro e gosto muito de cachorro\""
   ]
  },
  {
   "cell_type": "code",
   "execution_count": 36,
   "id": "11b24e5a",
   "metadata": {},
   "outputs": [
    {
     "data": {
      "text/plain": [
       "{'Bem',\n",
       " 'Pedro',\n",
       " 'cachorro',\n",
       " 'de',\n",
       " 'e',\n",
       " 'gosto',\n",
       " 'meu',\n",
       " 'muito',\n",
       " 'nome',\n",
       " 'nomes',\n",
       " 'tenho',\n",
       " 'vindo',\n",
       " 'é'}"
      ]
     },
     "execution_count": 36,
     "metadata": {},
     "output_type": "execute_result"
    }
   ],
   "source": [
    "set(meu_texto.split())"
   ]
  },
  {
   "cell_type": "code",
   "execution_count": 38,
   "id": "f4a4eb8a",
   "metadata": {},
   "outputs": [],
   "source": [
    "# chave : valor\n",
    "aparicoes = {\n",
    "    \"Pedro\": 1,\n",
    "    \"cachorro\": 2,\n",
    "    \"nome\": 2,\n",
    "    \"vinho\": 5\n",
    "}"
   ]
  },
  {
   "cell_type": "code",
   "execution_count": 39,
   "id": "cc84f0eb",
   "metadata": {},
   "outputs": [
    {
     "data": {
      "text/plain": [
       "dict"
      ]
     },
     "execution_count": 39,
     "metadata": {},
     "output_type": "execute_result"
    }
   ],
   "source": [
    "type(aparicoes)"
   ]
  },
  {
   "cell_type": "code",
   "execution_count": 40,
   "id": "23481e52",
   "metadata": {},
   "outputs": [
    {
     "data": {
      "text/plain": [
       "1"
      ]
     },
     "execution_count": 40,
     "metadata": {},
     "output_type": "execute_result"
    }
   ],
   "source": [
    "aparicoes[\"Pedro\"]"
   ]
  },
  {
   "cell_type": "code",
   "execution_count": 41,
   "id": "568f1c7a",
   "metadata": {},
   "outputs": [
    {
     "data": {
      "text/plain": [
       "2"
      ]
     },
     "execution_count": 41,
     "metadata": {},
     "output_type": "execute_result"
    }
   ],
   "source": [
    "aparicoes[\"cachorro\"]"
   ]
  },
  {
   "cell_type": "code",
   "execution_count": 42,
   "id": "0b383cd8",
   "metadata": {},
   "outputs": [
    {
     "data": {
      "text/plain": [
       "0"
      ]
     },
     "execution_count": 42,
     "metadata": {},
     "output_type": "execute_result"
    }
   ],
   "source": [
    "aparicoes.get('teste', 0)"
   ]
  },
  {
   "cell_type": "code",
   "execution_count": 43,
   "id": "8a1a95c6",
   "metadata": {},
   "outputs": [
    {
     "data": {
      "text/plain": [
       "2"
      ]
     },
     "execution_count": 43,
     "metadata": {},
     "output_type": "execute_result"
    }
   ],
   "source": [
    "aparicoes.get('cachorro', 0)"
   ]
  },
  {
   "cell_type": "code",
   "execution_count": 44,
   "id": "4f8e2807",
   "metadata": {},
   "outputs": [],
   "source": [
    "aparicoes = dict(Pedro = 2, Cachorro = 3)"
   ]
  },
  {
   "cell_type": "code",
   "execution_count": 45,
   "id": "3f619b6d",
   "metadata": {},
   "outputs": [
    {
     "data": {
      "text/plain": [
       "{'Pedro': 2, 'Cachorro': 3}"
      ]
     },
     "execution_count": 45,
     "metadata": {},
     "output_type": "execute_result"
    }
   ],
   "source": [
    "aparicoes"
   ]
  },
  {
   "cell_type": "code",
   "execution_count": 46,
   "id": "6adc9b75",
   "metadata": {},
   "outputs": [],
   "source": [
    "aparicoes = {\n",
    "    \"Pedro\": 1,\n",
    "    \"cachorro\": 2,\n",
    "    \"nome\": 2,\n",
    "    \"vinho\": 5\n",
    "}"
   ]
  },
  {
   "cell_type": "code",
   "execution_count": 47,
   "id": "ac13ae19",
   "metadata": {},
   "outputs": [],
   "source": [
    "aparicoes[\"Carlos\"] = 1"
   ]
  },
  {
   "cell_type": "code",
   "execution_count": 48,
   "id": "1eb01491",
   "metadata": {},
   "outputs": [
    {
     "data": {
      "text/plain": [
       "{'Pedro': 1, 'cachorro': 2, 'nome': 2, 'vinho': 5, 'Carlos': 1}"
      ]
     },
     "execution_count": 48,
     "metadata": {},
     "output_type": "execute_result"
    }
   ],
   "source": [
    "aparicoes"
   ]
  },
  {
   "cell_type": "code",
   "execution_count": 49,
   "id": "06c02bab",
   "metadata": {},
   "outputs": [],
   "source": [
    "aparicoes['Carlos'] = 2"
   ]
  },
  {
   "cell_type": "code",
   "execution_count": 50,
   "id": "0f251f04",
   "metadata": {},
   "outputs": [
    {
     "data": {
      "text/plain": [
       "{'Pedro': 1, 'cachorro': 2, 'nome': 2, 'vinho': 5, 'Carlos': 2}"
      ]
     },
     "execution_count": 50,
     "metadata": {},
     "output_type": "execute_result"
    }
   ],
   "source": [
    "aparicoes"
   ]
  },
  {
   "cell_type": "code",
   "execution_count": 51,
   "id": "b85932c8",
   "metadata": {},
   "outputs": [
    {
     "data": {
      "text/plain": [
       "{'Pedro': 1, 'cachorro': 2, 'nome': 2, 'vinho': 5}"
      ]
     },
     "execution_count": 51,
     "metadata": {},
     "output_type": "execute_result"
    }
   ],
   "source": [
    "del aparicoes['Carlos']\n",
    "aparicoes"
   ]
  },
  {
   "cell_type": "code",
   "execution_count": 52,
   "id": "b5e6da39",
   "metadata": {},
   "outputs": [
    {
     "data": {
      "text/plain": [
       "True"
      ]
     },
     "execution_count": 52,
     "metadata": {},
     "output_type": "execute_result"
    }
   ],
   "source": [
    "\"cachorro\" in aparicoes"
   ]
  },
  {
   "cell_type": "code",
   "execution_count": 53,
   "id": "8ce5bb4e",
   "metadata": {},
   "outputs": [
    {
     "data": {
      "text/plain": [
       "False"
      ]
     },
     "execution_count": 53,
     "metadata": {},
     "output_type": "execute_result"
    }
   ],
   "source": [
    "'Carlos' in aparicoes"
   ]
  },
  {
   "cell_type": "code",
   "execution_count": 54,
   "id": "13d5f76c",
   "metadata": {},
   "outputs": [
    {
     "name": "stdout",
     "output_type": "stream",
     "text": [
      "Pedro\n",
      "cachorro\n",
      "nome\n",
      "vinho\n"
     ]
    }
   ],
   "source": [
    "for elemento in aparicoes:\n",
    "    print(elemento)"
   ]
  },
  {
   "cell_type": "code",
   "execution_count": 55,
   "id": "c038ea0e",
   "metadata": {},
   "outputs": [
    {
     "name": "stdout",
     "output_type": "stream",
     "text": [
      "Pedro\n",
      "cachorro\n",
      "nome\n",
      "vinho\n"
     ]
    }
   ],
   "source": [
    "for elemento in aparicoes.keys():\n",
    "    print(elemento)"
   ]
  },
  {
   "cell_type": "code",
   "execution_count": 56,
   "id": "b6e4151d",
   "metadata": {},
   "outputs": [
    {
     "name": "stdout",
     "output_type": "stream",
     "text": [
      "1\n",
      "2\n",
      "2\n",
      "5\n"
     ]
    }
   ],
   "source": [
    "for elemento in aparicoes.values():\n",
    "    print(elemento)"
   ]
  },
  {
   "cell_type": "code",
   "execution_count": 57,
   "id": "8313dabe",
   "metadata": {},
   "outputs": [
    {
     "name": "stdout",
     "output_type": "stream",
     "text": [
      "Pedro 1\n",
      "cachorro 2\n",
      "nome 2\n",
      "vinho 5\n"
     ]
    }
   ],
   "source": [
    "for elemento in aparicoes.keys():\n",
    "    print(elemento, aparicoes[elemento])"
   ]
  },
  {
   "cell_type": "code",
   "execution_count": 58,
   "id": "2f7bd933",
   "metadata": {},
   "outputs": [
    {
     "name": "stdout",
     "output_type": "stream",
     "text": [
      "('Pedro', 1)\n",
      "('cachorro', 2)\n",
      "('nome', 2)\n",
      "('vinho', 5)\n"
     ]
    }
   ],
   "source": [
    "for elemento in aparicoes.items():\n",
    "    print(elemento)"
   ]
  },
  {
   "cell_type": "code",
   "execution_count": 61,
   "id": "9683b40b",
   "metadata": {},
   "outputs": [
    {
     "name": "stdout",
     "output_type": "stream",
     "text": [
      "Pedro = 1\n",
      "cachorro = 2\n",
      "nome = 2\n",
      "vinho = 5\n"
     ]
    }
   ],
   "source": [
    "for chave, valor in aparicoes.items():\n",
    "    print(chave, \"=\", valor)"
   ]
  },
  {
   "cell_type": "code",
   "execution_count": 64,
   "id": "9ac53f9c",
   "metadata": {},
   "outputs": [
    {
     "data": {
      "text/plain": [
       "['palavra Pedro', 'palavra cachorro', 'palavra nome', 'palavra vinho']"
      ]
     },
     "execution_count": 64,
     "metadata": {},
     "output_type": "execute_result"
    }
   ],
   "source": [
    "[\"palavra {}\".format(chave) for chave in aparicoes.keys()]"
   ]
  },
  {
   "cell_type": "code",
   "execution_count": 69,
   "id": "e86e4cd9",
   "metadata": {},
   "outputs": [
    {
     "data": {
      "text/plain": [
       "{'bem': 1,\n",
       " 'vindo': 1,\n",
       " 'meu': 2,\n",
       " 'nome': 1,\n",
       " 'é': 1,\n",
       " 'pedro': 1,\n",
       " 'e': 3,\n",
       " 'gosto': 2,\n",
       " 'muito': 2,\n",
       " 'de': 2,\n",
       " 'nomes': 1,\n",
       " 'tenho': 1,\n",
       " 'cachorro': 2}"
      ]
     },
     "execution_count": 69,
     "metadata": {},
     "output_type": "execute_result"
    }
   ],
   "source": [
    "meu_texto = \"Bem vindo meu nome é Pedro e gosto muito de nomes e tenho meu cachorro e gosto muito de cachorro\"\n",
    "meu_texto = meu_texto.lower()\n",
    "aparicoes = {}\n",
    "for palavra in meu_texto.split():\n",
    "    ate_agora = aparicoes.get(palavra, 0)\n",
    "    aparicoes[palavra] = ate_agora + 1 \n",
    "\n",
    "aparicoes"
   ]
  },
  {
   "cell_type": "code",
   "execution_count": 70,
   "id": "b5f3ade4",
   "metadata": {},
   "outputs": [
    {
     "data": {
      "text/plain": [
       "defaultdict(int,\n",
       "            {'bem': 1,\n",
       "             'vindo': 1,\n",
       "             'meu': 2,\n",
       "             'nome': 1,\n",
       "             'é': 1,\n",
       "             'pedro': 1,\n",
       "             'e': 3,\n",
       "             'gosto': 2,\n",
       "             'muito': 2,\n",
       "             'de': 2,\n",
       "             'nomes': 1,\n",
       "             'tenho': 1,\n",
       "             'cachorro': 2})"
      ]
     },
     "execution_count": 70,
     "metadata": {},
     "output_type": "execute_result"
    }
   ],
   "source": [
    "from collections import defaultdict\n",
    "\n",
    "aparicoes = defaultdict(int)\n",
    "\n",
    "for palavra in meu_texto.split():\n",
    "    ate_agora = aparicoes[palavra]\n",
    "    aparicoes[palavra] = ate_agora + 1 \n",
    "\n",
    "aparicoes"
   ]
  },
  {
   "cell_type": "code",
   "execution_count": 71,
   "id": "a7bec3ee",
   "metadata": {},
   "outputs": [
    {
     "data": {
      "text/plain": [
       "0"
      ]
     },
     "execution_count": 71,
     "metadata": {},
     "output_type": "execute_result"
    }
   ],
   "source": [
    "di = defaultdict(int)\n",
    "di['Pedro']"
   ]
  },
  {
   "cell_type": "code",
   "execution_count": 72,
   "id": "c419f1e3",
   "metadata": {},
   "outputs": [
    {
     "data": {
      "text/plain": [
       "defaultdict(int, {'Pedro': 0})"
      ]
     },
     "execution_count": 72,
     "metadata": {},
     "output_type": "execute_result"
    }
   ],
   "source": [
    "di"
   ]
  },
  {
   "cell_type": "code",
   "execution_count": 73,
   "id": "829c36cd",
   "metadata": {},
   "outputs": [
    {
     "data": {
      "text/plain": [
       "0"
      ]
     },
     "execution_count": 73,
     "metadata": {},
     "output_type": "execute_result"
    }
   ],
   "source": [
    "di['Ju']"
   ]
  },
  {
   "cell_type": "code",
   "execution_count": 74,
   "id": "98c723d4",
   "metadata": {},
   "outputs": [
    {
     "data": {
      "text/plain": [
       "defaultdict(int, {'Pedro': 0, 'Ju': 0})"
      ]
     },
     "execution_count": 74,
     "metadata": {},
     "output_type": "execute_result"
    }
   ],
   "source": [
    "di"
   ]
  },
  {
   "cell_type": "code",
   "execution_count": 75,
   "id": "60ad0d38",
   "metadata": {},
   "outputs": [],
   "source": [
    "di['Te'] = 34"
   ]
  },
  {
   "cell_type": "code",
   "execution_count": 76,
   "id": "0716df29",
   "metadata": {},
   "outputs": [
    {
     "data": {
      "text/plain": [
       "defaultdict(int, {'Pedro': 0, 'Ju': 0, 'Te': 34})"
      ]
     },
     "execution_count": 76,
     "metadata": {},
     "output_type": "execute_result"
    }
   ],
   "source": [
    "di"
   ]
  },
  {
   "cell_type": "code",
   "execution_count": 77,
   "id": "94acbcde",
   "metadata": {},
   "outputs": [
    {
     "data": {
      "text/plain": [
       "defaultdict(int,\n",
       "            {'bem': 1,\n",
       "             'vindo': 1,\n",
       "             'meu': 2,\n",
       "             'nome': 1,\n",
       "             'é': 1,\n",
       "             'pedro': 1,\n",
       "             'e': 3,\n",
       "             'gosto': 2,\n",
       "             'muito': 2,\n",
       "             'de': 2,\n",
       "             'nomes': 1,\n",
       "             'tenho': 1,\n",
       "             'cachorro': 2})"
      ]
     },
     "execution_count": 77,
     "metadata": {},
     "output_type": "execute_result"
    }
   ],
   "source": [
    "aparicoes = defaultdict(int)\n",
    "\n",
    "for palavra in meu_texto.split():\n",
    "    aparicoes[palavra] += 1 \n",
    "\n",
    "aparicoes"
   ]
  },
  {
   "cell_type": "code",
   "execution_count": 78,
   "id": "2baa298f",
   "metadata": {},
   "outputs": [],
   "source": [
    "class Conta:\n",
    "    def __init__(self):\n",
    "        print(\"Criando uma conta nova!\")"
   ]
  },
  {
   "cell_type": "code",
   "execution_count": 79,
   "id": "4fdf234b",
   "metadata": {},
   "outputs": [
    {
     "name": "stdout",
     "output_type": "stream",
     "text": [
      "Criando uma conta nova!\n"
     ]
    },
    {
     "data": {
      "text/plain": [
       "<__main__.Conta at 0x259778cecc8>"
      ]
     },
     "execution_count": 79,
     "metadata": {},
     "output_type": "execute_result"
    }
   ],
   "source": [
    "contas = defaultdict(Conta)\n",
    "contas[15]"
   ]
  },
  {
   "cell_type": "code",
   "execution_count": 80,
   "id": "f036a558",
   "metadata": {},
   "outputs": [
    {
     "name": "stdout",
     "output_type": "stream",
     "text": [
      "Criando uma conta nova!\n"
     ]
    },
    {
     "data": {
      "text/plain": [
       "<__main__.Conta at 0x2597738e388>"
      ]
     },
     "execution_count": 80,
     "metadata": {},
     "output_type": "execute_result"
    }
   ],
   "source": [
    "contas[17]"
   ]
  },
  {
   "cell_type": "code",
   "execution_count": 81,
   "id": "979bb91d",
   "metadata": {},
   "outputs": [
    {
     "data": {
      "text/plain": [
       "defaultdict(__main__.Conta,\n",
       "            {15: <__main__.Conta at 0x259778cecc8>,\n",
       "             17: <__main__.Conta at 0x2597738e388>})"
      ]
     },
     "execution_count": 81,
     "metadata": {},
     "output_type": "execute_result"
    }
   ],
   "source": [
    "contas"
   ]
  },
  {
   "cell_type": "code",
   "execution_count": 83,
   "id": "b2526f0e",
   "metadata": {},
   "outputs": [
    {
     "data": {
      "text/plain": [
       "Counter({'bem': 1,\n",
       "         'vindo': 1,\n",
       "         'meu': 2,\n",
       "         'nome': 1,\n",
       "         'é': 1,\n",
       "         'pedro': 1,\n",
       "         'e': 3,\n",
       "         'gosto': 2,\n",
       "         'muito': 2,\n",
       "         'de': 2,\n",
       "         'nomes': 1,\n",
       "         'tenho': 1,\n",
       "         'cachorro': 2})"
      ]
     },
     "execution_count": 83,
     "metadata": {},
     "output_type": "execute_result"
    }
   ],
   "source": [
    "from collections import Counter\n",
    "aparicoes = Counter(meu_texto.split())\n",
    "\n",
    "aparicoes"
   ]
  },
  {
   "cell_type": "code",
   "execution_count": 84,
   "id": "c5fd74d6",
   "metadata": {},
   "outputs": [],
   "source": [
    "texto1 = '''\n",
    "Em problemas de modelagem supervisionada focada em classificação, podemos nos deparar com bases de dados em que a variável alvo contenha classes muito desbalanceadas, isto é, contendo categorias com frequências muito diferentes.\n",
    "Ao treinar um modelo de classificação com a variável desbalanceada, encontraremos alguns problemas. Isso acontece porque o padrão dos dados para a classe dominante vai se sobressair em relação aos da classe com menor frequência. Geralmente, nas bases de dados que possuem a variável alvo desbalanceada, a classe com menor frequência é justamente a que temos interesse em prever, o que torna os problemas ainda maiores.\n",
    "Como uma das classes tem frequência muito grande, o modelo construído utilizando dados desbalanceados pode apresentar acurácia bem elevada e ainda assim não prever corretamente nenhuma observação para a classe com menor frequência. Isso pode deixar a falsa impressão de que o modelo está com boa performance quando na verdade não está.\n",
    "Para contornar esses problemas gerados pela base de dados desbalanceada, podemos recorrer a duas soluções que consistem em equilibrar os dados da variável alvo: undersampling e oversampling.\n",
    "'''\n",
    "\n",
    "texto2 = '''\n",
    "Miro é uma plataforma de lousa interativa digital (um quadro infinito), que conta com um plano gratuito. Com ela podemos “colar” notas adesivas (post-its) em uma área de trabalho e colaborar com várias pessoas no desenvolvimento de projetos e workshops, por exemplo.\n",
    "Essa ferramenta nos permite executar diversas tarefas na criação de um projeto, como a formulação de mapas mentais e fluxos, planejamento de pesquisas, desenvolvimento de esboços e wireframes (rascunhos de interfaces digitais), criação estratégica do projeto, workshops e aulas interativas e muitas outras atividades relacionadas aos nossos projetos profissionais ou pessoais.\n",
    "E por proporcionar essa variedade de opções, a Miro foi muito importante no contexto de trabalho remoto. Ela facilitou a colaboração e ajudou diversos profissionais no desenvolvimento de projetos digitais.\n",
    "Além disso, a ferramenta conta com um canvas infinito e a disponibilização de templates, o que deixa o trabalho ainda mais prático. Os diversos templates disponíveis podem ser encontrados no site e podem ser utilizados gratuitamente.\n",
    "'''"
   ]
  },
  {
   "cell_type": "code",
   "execution_count": 85,
   "id": "26f8d4be",
   "metadata": {},
   "outputs": [
    {
     "data": {
      "text/plain": [
       "['Em',\n",
       " 'problemas',\n",
       " 'de',\n",
       " 'modelagem',\n",
       " 'supervisionada',\n",
       " 'focada',\n",
       " 'em',\n",
       " 'classificação,',\n",
       " 'podemos',\n",
       " 'nos',\n",
       " 'deparar',\n",
       " 'com',\n",
       " 'bases',\n",
       " 'de',\n",
       " 'dados',\n",
       " 'em',\n",
       " 'que',\n",
       " 'a',\n",
       " 'variável',\n",
       " 'alvo',\n",
       " 'contenha',\n",
       " 'classes',\n",
       " 'muito',\n",
       " 'desbalanceadas,',\n",
       " 'isto',\n",
       " 'é,',\n",
       " 'contendo',\n",
       " 'categorias',\n",
       " 'com',\n",
       " 'frequências',\n",
       " 'muito',\n",
       " 'diferentes.',\n",
       " 'Ao',\n",
       " 'treinar',\n",
       " 'um',\n",
       " 'modelo',\n",
       " 'de',\n",
       " 'classificação',\n",
       " 'com',\n",
       " 'a',\n",
       " 'variável',\n",
       " 'desbalanceada,',\n",
       " 'encontraremos',\n",
       " 'alguns',\n",
       " 'problemas.',\n",
       " 'Isso',\n",
       " 'acontece',\n",
       " 'porque',\n",
       " 'o',\n",
       " 'padrão',\n",
       " 'dos',\n",
       " 'dados',\n",
       " 'para',\n",
       " 'a',\n",
       " 'classe',\n",
       " 'dominante',\n",
       " 'vai',\n",
       " 'se',\n",
       " 'sobressair',\n",
       " 'em',\n",
       " 'relação',\n",
       " 'aos',\n",
       " 'da',\n",
       " 'classe',\n",
       " 'com',\n",
       " 'menor',\n",
       " 'frequência.',\n",
       " 'Geralmente,',\n",
       " 'nas',\n",
       " 'bases',\n",
       " 'de',\n",
       " 'dados',\n",
       " 'que',\n",
       " 'possuem',\n",
       " 'a',\n",
       " 'variável',\n",
       " 'alvo',\n",
       " 'desbalanceada,',\n",
       " 'a',\n",
       " 'classe',\n",
       " 'com',\n",
       " 'menor',\n",
       " 'frequência',\n",
       " 'é',\n",
       " 'justamente',\n",
       " 'a',\n",
       " 'que',\n",
       " 'temos',\n",
       " 'interesse',\n",
       " 'em',\n",
       " 'prever,',\n",
       " 'o',\n",
       " 'que',\n",
       " 'torna',\n",
       " 'os',\n",
       " 'problemas',\n",
       " 'ainda',\n",
       " 'maiores.',\n",
       " 'Como',\n",
       " 'uma',\n",
       " 'das',\n",
       " 'classes',\n",
       " 'tem',\n",
       " 'frequência',\n",
       " 'muito',\n",
       " 'grande,',\n",
       " 'o',\n",
       " 'modelo',\n",
       " 'construído',\n",
       " 'utilizando',\n",
       " 'dados',\n",
       " 'desbalanceados',\n",
       " 'pode',\n",
       " 'apresentar',\n",
       " 'acurácia',\n",
       " 'bem',\n",
       " 'elevada',\n",
       " 'e',\n",
       " 'ainda',\n",
       " 'assim',\n",
       " 'não',\n",
       " 'prever',\n",
       " 'corretamente',\n",
       " 'nenhuma',\n",
       " 'observação',\n",
       " 'para',\n",
       " 'a',\n",
       " 'classe',\n",
       " 'com',\n",
       " 'menor',\n",
       " 'frequência.',\n",
       " 'Isso',\n",
       " 'pode',\n",
       " 'deixar',\n",
       " 'a',\n",
       " 'falsa',\n",
       " 'impressão',\n",
       " 'de',\n",
       " 'que',\n",
       " 'o',\n",
       " 'modelo',\n",
       " 'está',\n",
       " 'com',\n",
       " 'boa',\n",
       " 'performance',\n",
       " 'quando',\n",
       " 'na',\n",
       " 'verdade',\n",
       " 'não',\n",
       " 'está.',\n",
       " 'Para',\n",
       " 'contornar',\n",
       " 'esses',\n",
       " 'problemas',\n",
       " 'gerados',\n",
       " 'pela',\n",
       " 'base',\n",
       " 'de',\n",
       " 'dados',\n",
       " 'desbalanceada,',\n",
       " 'podemos',\n",
       " 'recorrer',\n",
       " 'a',\n",
       " 'duas',\n",
       " 'soluções',\n",
       " 'que',\n",
       " 'consistem',\n",
       " 'em',\n",
       " 'equilibrar',\n",
       " 'os',\n",
       " 'dados',\n",
       " 'da',\n",
       " 'variável',\n",
       " 'alvo:',\n",
       " 'undersampling',\n",
       " 'e',\n",
       " 'oversampling.']"
      ]
     },
     "execution_count": 85,
     "metadata": {},
     "output_type": "execute_result"
    }
   ],
   "source": [
    "texto1.split( )"
   ]
  },
  {
   "cell_type": "code",
   "execution_count": 86,
   "id": "1bfef885",
   "metadata": {},
   "outputs": [
    {
     "data": {
      "text/plain": [
       "Counter({'\\n': 5,\n",
       "         'e': 128,\n",
       "         'm': 50,\n",
       "         ' ': 173,\n",
       "         'p': 24,\n",
       "         'r': 65,\n",
       "         'o': 94,\n",
       "         'b': 17,\n",
       "         'l': 39,\n",
       "         'a': 130,\n",
       "         's': 93,\n",
       "         'd': 60,\n",
       "         'g': 8,\n",
       "         'u': 30,\n",
       "         'v': 19,\n",
       "         'i': 42,\n",
       "         'n': 52,\n",
       "         'f': 11,\n",
       "         'c': 43,\n",
       "         'ç': 5,\n",
       "         'ã': 8,\n",
       "         ',': 9,\n",
       "         'q': 14,\n",
       "         'á': 7,\n",
       "         't': 28,\n",
       "         'h': 2,\n",
       "         'é': 2,\n",
       "         'ê': 5,\n",
       "         '.': 7,\n",
       "         'j': 1,\n",
       "         'í': 1,\n",
       "         'z': 1,\n",
       "         'x': 1,\n",
       "         'õ': 1,\n",
       "         ':': 1})"
      ]
     },
     "execution_count": 86,
     "metadata": {},
     "output_type": "execute_result"
    }
   ],
   "source": [
    "Counter(texto1.lower())"
   ]
  },
  {
   "cell_type": "code",
   "execution_count": 87,
   "id": "6dfdaf14",
   "metadata": {},
   "outputs": [
    {
     "data": {
      "text/plain": [
       "dict_values([5, 128, 50, 173, 24, 65, 94, 17, 39, 130, 93, 60, 8, 30, 19, 42, 52, 11, 43, 5, 8, 9, 14, 7, 28, 2, 2, 5, 7, 1, 1, 1, 1, 1, 1])"
      ]
     },
     "execution_count": 87,
     "metadata": {},
     "output_type": "execute_result"
    }
   ],
   "source": [
    "aparicoes = Counter(texto1.lower())\n",
    "aparicoes.values()"
   ]
  },
  {
   "cell_type": "code",
   "execution_count": 93,
   "id": "9720f450",
   "metadata": {},
   "outputs": [
    {
     "name": "stdout",
     "output_type": "stream",
     "text": [
      "('\\n', 0.004251700680272109)\n",
      "('e', 0.10884353741496598)\n",
      "('m', 0.04251700680272109)\n",
      "(' ', 0.14710884353741496)\n",
      "('p', 0.02040816326530612)\n",
      "('r', 0.055272108843537414)\n",
      "('o', 0.07993197278911565)\n",
      "('b', 0.01445578231292517)\n",
      "('l', 0.03316326530612245)\n",
      "('a', 0.11054421768707483)\n",
      "('s', 0.07908163265306123)\n",
      "('d', 0.05102040816326531)\n",
      "('g', 0.006802721088435374)\n",
      "('u', 0.025510204081632654)\n",
      "('v', 0.016156462585034014)\n",
      "('i', 0.03571428571428571)\n",
      "('n', 0.04421768707482993)\n",
      "('f', 0.00935374149659864)\n",
      "('c', 0.036564625850340135)\n",
      "('ç', 0.004251700680272109)\n",
      "('ã', 0.006802721088435374)\n",
      "(',', 0.007653061224489796)\n",
      "('q', 0.011904761904761904)\n",
      "('á', 0.005952380952380952)\n",
      "('t', 0.023809523809523808)\n",
      "('h', 0.0017006802721088435)\n",
      "('é', 0.0017006802721088435)\n",
      "('ê', 0.004251700680272109)\n",
      "('.', 0.005952380952380952)\n",
      "('j', 0.0008503401360544217)\n",
      "('í', 0.0008503401360544217)\n",
      "('z', 0.0008503401360544217)\n",
      "('x', 0.0008503401360544217)\n",
      "('õ', 0.0008503401360544217)\n",
      "(':', 0.0008503401360544217)\n"
     ]
    }
   ],
   "source": [
    "aparicoes = Counter(texto1.lower())\n",
    "total_de_caracteres = sum(aparicoes.values())\n",
    "for letra, frequencia in aparicoes.items():\n",
    "    tupla = (letra, frequencia / total_de_caracteres)\n",
    "    print(tupla)"
   ]
  },
  {
   "cell_type": "code",
   "execution_count": 98,
   "id": "5e44b2f2",
   "metadata": {},
   "outputs": [
    {
     "data": {
      "text/plain": [
       "{'\\n': 0.004251700680272109,\n",
       " 'e': 0.10884353741496598,\n",
       " 'm': 0.04251700680272109,\n",
       " ' ': 0.14710884353741496,\n",
       " 'p': 0.02040816326530612,\n",
       " 'r': 0.055272108843537414,\n",
       " 'o': 0.07993197278911565,\n",
       " 'b': 0.01445578231292517,\n",
       " 'l': 0.03316326530612245,\n",
       " 'a': 0.11054421768707483,\n",
       " 's': 0.07908163265306123,\n",
       " 'd': 0.05102040816326531,\n",
       " 'g': 0.006802721088435374,\n",
       " 'u': 0.025510204081632654,\n",
       " 'v': 0.016156462585034014,\n",
       " 'i': 0.03571428571428571,\n",
       " 'n': 0.04421768707482993,\n",
       " 'f': 0.00935374149659864,\n",
       " 'c': 0.036564625850340135,\n",
       " 'ç': 0.004251700680272109,\n",
       " 'ã': 0.006802721088435374,\n",
       " ',': 0.007653061224489796,\n",
       " 'q': 0.011904761904761904,\n",
       " 'á': 0.005952380952380952,\n",
       " 't': 0.023809523809523808,\n",
       " 'h': 0.0017006802721088435,\n",
       " 'é': 0.0017006802721088435,\n",
       " 'ê': 0.004251700680272109,\n",
       " '.': 0.005952380952380952,\n",
       " 'j': 0.0008503401360544217,\n",
       " 'í': 0.0008503401360544217,\n",
       " 'z': 0.0008503401360544217,\n",
       " 'x': 0.0008503401360544217,\n",
       " 'õ': 0.0008503401360544217,\n",
       " ':': 0.0008503401360544217}"
      ]
     },
     "execution_count": 98,
     "metadata": {},
     "output_type": "execute_result"
    }
   ],
   "source": [
    "aparicoes = Counter(texto1.lower())\n",
    "total_de_caracteres = sum(aparicoes.values())\n",
    "\n",
    "proporcoes = [(letra, frequencia / total_de_caracteres) for letra, frequencia in aparicoes.items()]\n",
    "proporcoes = dict(proporcoes)\n",
    "proporcoes"
   ]
  },
  {
   "cell_type": "code",
   "execution_count": 103,
   "id": "5c17c416",
   "metadata": {},
   "outputs": [],
   "source": [
    "def analisa_frequencia_de_letras(texto):\n",
    "    aparicoes = Counter(texto.lower())\n",
    "    total_de_caracteres = sum(aparicoes.values())\n",
    "    \n",
    "    proporcoes = [(letra, frequencia / total_de_caracteres) for letra, frequencia in aparicoes.items()]\n",
    "    proporcoes = Counter(dict(proporcoes))\n",
    "    mais_comuns = proporcoes.most_common(10)\n",
    "    for caractere, proporcoes in mais_comuns:\n",
    "        print(caractere, proporcoes)"
   ]
  },
  {
   "cell_type": "code",
   "execution_count": 104,
   "id": "5af8c6b1",
   "metadata": {},
   "outputs": [
    {
     "name": "stdout",
     "output_type": "stream",
     "text": [
      "  0.14710884353741496\n",
      "a 0.11054421768707483\n",
      "e 0.10884353741496598\n",
      "o 0.07993197278911565\n",
      "s 0.07908163265306123\n",
      "r 0.055272108843537414\n",
      "d 0.05102040816326531\n",
      "n 0.04421768707482993\n",
      "m 0.04251700680272109\n",
      "c 0.036564625850340135\n"
     ]
    }
   ],
   "source": [
    "analisa_frequencia_de_letras(texto1)"
   ]
  },
  {
   "cell_type": "code",
   "execution_count": 105,
   "id": "42a14898",
   "metadata": {},
   "outputs": [
    {
     "name": "stdout",
     "output_type": "stream",
     "text": [
      "  0.14285714285714285\n",
      "o 0.09953917050691244\n",
      "a 0.09216589861751152\n",
      "e 0.08847926267281106\n",
      "s 0.07649769585253456\n",
      "i 0.06543778801843318\n",
      "t 0.054377880184331796\n",
      "r 0.053456221198156684\n",
      "n 0.03963133640552995\n",
      "d 0.03686635944700461\n"
     ]
    }
   ],
   "source": [
    "analisa_frequencia_de_letras(texto2)"
   ]
  },
  {
   "cell_type": "code",
   "execution_count": 106,
   "id": "5809dbd7",
   "metadata": {},
   "outputs": [
    {
     "name": "stdout",
     "output_type": "stream",
     "text": [
      "  => 14.71%\n",
      "a => 11.05%\n",
      "e => 10.88%\n",
      "o => 7.99%\n",
      "s => 7.91%\n",
      "r => 5.53%\n",
      "d => 5.10%\n",
      "n => 4.42%\n",
      "m => 4.25%\n",
      "c => 3.66%\n"
     ]
    }
   ],
   "source": [
    "def analisa_frequencia_de_letras(texto):\n",
    "    aparicoes = Counter(texto.lower())\n",
    "    total_de_caracteres = sum(aparicoes.values())\n",
    "\n",
    "    proporcoes = [(letra, frequencia / total_de_caracteres) for letra, frequencia in aparicoes.items()]\n",
    "    proporcoes = Counter(dict(proporcoes))\n",
    "    mais_comuns = proporcoes.most_common(10)\n",
    "    for caractere, proporcao in mais_comuns:\n",
    "        print(\"{} => {:.2f}%\".format(caractere, proporcao * 100))\n",
    "analisa_frequencia_de_letras(texto1)"
   ]
  },
  {
   "cell_type": "code",
   "execution_count": null,
   "id": "020a3c0b",
   "metadata": {},
   "outputs": [],
   "source": []
  }
 ],
 "metadata": {
  "kernelspec": {
   "display_name": "Python 3.6 (tensorflow)",
   "language": "python",
   "name": "tensorflow"
  },
  "language_info": {
   "codemirror_mode": {
    "name": "ipython",
    "version": 3
   },
   "file_extension": ".py",
   "mimetype": "text/x-python",
   "name": "python",
   "nbconvert_exporter": "python",
   "pygments_lexer": "ipython3",
   "version": "3.7.11"
  }
 },
 "nbformat": 4,
 "nbformat_minor": 5
}
